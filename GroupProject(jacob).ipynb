{
 "cells": [
  {
   "cell_type": "code",
   "execution_count": 37,
   "metadata": {},
   "outputs": [],
   "source": [
    "import pandas as pd \n",
    "import statsmodels.api as sm\n",
    "import numpy as np\n",
    "import matplotlib.pyplot as plt\n",
    "import seaborn as sns; sns.set(style=\"white\", color_codes=True)\n",
    "%matplotlib inline"
   ]
  },
  {
   "cell_type": "code",
   "execution_count": 38,
   "metadata": {},
   "outputs": [],
   "source": [
    "data = pd.read_csv('2014-15 B1G Data(hailey).csv')\n",
    "data_2014_15 = data[data['Year'] == '2014-2015'].drop(['L', 'School', 'Year', 'MP', 'Seed', 'Finish', 'G'], 1)\n",
    "data_2015_16 = data[data['Year'] == '2015-2016'].drop(['L', 'School', 'Year', 'MP', 'Seed', 'Finish', 'G'], 1)\n",
    "data_2016_17 = data[data['Year'] == '2016-2017'].drop(['L', 'School', 'Year', 'MP', 'Seed', 'Finish', 'G'], 1)\n",
    "data_2017_18 = data[data['Year'] == '2017-2018'].drop(['L', 'School', 'Year', 'MP', 'Seed', 'Finish', 'G'], 1)\n",
    "data_2018_19 = data[data['Year'] == '2018-2019'].drop(['L', 'School', 'Year', 'MP', 'Seed', 'Finish', 'G'], 1)\n",
    "dataa = data.drop(['L', 'School', 'Year', 'MP', 'Seed', 'Finish', 'G'], 1)"
   ]
  },
  {
   "cell_type": "code",
   "execution_count": 39,
   "metadata": {},
   "outputs": [],
   "source": [
    "ind_variables_2014_15 = [i for i in data_2014_15.columns if i != 'W'] \n",
    "ind_variables_2015_16 = [i for i in data_2015_16.columns if i != 'W']\n",
    "ind_variables_2016_17 = [i for i in data_2016_17.columns if i != 'W']\n",
    "ind_variables_2017_18 = [i for i in data_2017_18.columns if i != 'W']\n",
    "ind_variables_2018_19 = [i for i in data_2018_19.columns if i != 'W']\n",
    "total_var = [i for i in dataa.columns if i != 'W']"
   ]
  },
  {
   "cell_type": "code",
   "execution_count": 40,
   "metadata": {},
   "outputs": [],
   "source": [
    "y = 'W'\n",
    "x = ind_variables_2014_15\n",
    "model_simple = sm.OLS(data_2014_15['W'], data_2014_15[ind_variables_2014_15]).fit()\n",
    "\n",
    "model = sm.OLS(data_2014_15[y], sm.add_constant(data_2014_15[ind_variables_2014_15])).fit()"
   ]
  },
  {
   "cell_type": "code",
   "execution_count": 41,
   "metadata": {},
   "outputs": [
    {
     "data": {
      "text/html": [
       "<table class=\"simpletable\">\n",
       "<caption>OLS Regression Results</caption>\n",
       "<tr>\n",
       "  <th>Dep. Variable:</th>            <td>W</td>        <th>  R-squared:         </th> <td>   0.438</td>\n",
       "</tr>\n",
       "<tr>\n",
       "  <th>Model:</th>                   <td>OLS</td>       <th>  Adj. R-squared:    </th> <td>   0.336</td>\n",
       "</tr>\n",
       "<tr>\n",
       "  <th>Method:</th>             <td>Least Squares</td>  <th>  F-statistic:       </th> <td>   4.287</td>\n",
       "</tr>\n",
       "<tr>\n",
       "  <th>Date:</th>             <td>Sun, 01 Dec 2019</td> <th>  Prob (F-statistic):</th>  <td>0.0420</td> \n",
       "</tr>\n",
       "<tr>\n",
       "  <th>Time:</th>                 <td>12:45:53</td>     <th>  Log-Likelihood:    </th> <td>  5.5458</td>\n",
       "</tr>\n",
       "<tr>\n",
       "  <th>No. Observations:</th>      <td>    14</td>      <th>  AIC:               </th> <td>  -5.092</td>\n",
       "</tr>\n",
       "<tr>\n",
       "  <th>Df Residuals:</th>          <td>    11</td>      <th>  BIC:               </th> <td>  -3.175</td>\n",
       "</tr>\n",
       "<tr>\n",
       "  <th>Df Model:</th>              <td>     2</td>      <th>                     </th>     <td> </td>   \n",
       "</tr>\n",
       "<tr>\n",
       "  <th>Covariance Type:</th>      <td>nonrobust</td>    <th>                     </th>     <td> </td>   \n",
       "</tr>\n",
       "</table>\n",
       "<table class=\"simpletable\">\n",
       "<tr>\n",
       "    <td></td>       <th>coef</th>     <th>std err</th>      <th>t</th>      <th>P>|t|</th>  <th>[0.025</th>    <th>0.975]</th>  \n",
       "</tr>\n",
       "<tr>\n",
       "  <th>const</th> <td>    1.1726</td> <td>    0.998</td> <td>    1.175</td> <td> 0.265</td> <td>   -1.024</td> <td>    3.369</td>\n",
       "</tr>\n",
       "<tr>\n",
       "  <th>3P%-O</th> <td>   -4.7920</td> <td>    2.397</td> <td>   -1.999</td> <td> 0.071</td> <td>  -10.068</td> <td>    0.484</td>\n",
       "</tr>\n",
       "<tr>\n",
       "  <th>3P%-T</th> <td>    2.8644</td> <td>    1.435</td> <td>    1.997</td> <td> 0.071</td> <td>   -0.293</td> <td>    6.022</td>\n",
       "</tr>\n",
       "</table>\n",
       "<table class=\"simpletable\">\n",
       "<tr>\n",
       "  <th>Omnibus:</th>       <td> 3.557</td> <th>  Durbin-Watson:     </th> <td>   0.786</td>\n",
       "</tr>\n",
       "<tr>\n",
       "  <th>Prob(Omnibus):</th> <td> 0.169</td> <th>  Jarque-Bera (JB):  </th> <td>   1.488</td>\n",
       "</tr>\n",
       "<tr>\n",
       "  <th>Skew:</th>          <td> 0.760</td> <th>  Prob(JB):          </th> <td>   0.475</td>\n",
       "</tr>\n",
       "<tr>\n",
       "  <th>Kurtosis:</th>      <td> 3.491</td> <th>  Cond. No.          </th> <td>    58.2</td>\n",
       "</tr>\n",
       "</table><br/><br/>Warnings:<br/>[1] Standard Errors assume that the covariance matrix of the errors is correctly specified."
      ],
      "text/plain": [
       "<class 'statsmodels.iolib.summary.Summary'>\n",
       "\"\"\"\n",
       "                            OLS Regression Results                            \n",
       "==============================================================================\n",
       "Dep. Variable:                      W   R-squared:                       0.438\n",
       "Model:                            OLS   Adj. R-squared:                  0.336\n",
       "Method:                 Least Squares   F-statistic:                     4.287\n",
       "Date:                Sun, 01 Dec 2019   Prob (F-statistic):             0.0420\n",
       "Time:                        12:45:53   Log-Likelihood:                 5.5458\n",
       "No. Observations:                  14   AIC:                            -5.092\n",
       "Df Residuals:                      11   BIC:                            -3.175\n",
       "Df Model:                           2                                         \n",
       "Covariance Type:            nonrobust                                         \n",
       "==============================================================================\n",
       "                 coef    std err          t      P>|t|      [0.025      0.975]\n",
       "------------------------------------------------------------------------------\n",
       "const          1.1726      0.998      1.175      0.265      -1.024       3.369\n",
       "3P%-O         -4.7920      2.397     -1.999      0.071     -10.068       0.484\n",
       "3P%-T          2.8644      1.435      1.997      0.071      -0.293       6.022\n",
       "==============================================================================\n",
       "Omnibus:                        3.557   Durbin-Watson:                   0.786\n",
       "Prob(Omnibus):                  0.169   Jarque-Bera (JB):                1.488\n",
       "Skew:                           0.760   Prob(JB):                        0.475\n",
       "Kurtosis:                       3.491   Cond. No.                         58.2\n",
       "==============================================================================\n",
       "\n",
       "Warnings:\n",
       "[1] Standard Errors assume that the covariance matrix of the errors is correctly specified.\n",
       "\"\"\""
      ]
     },
     "execution_count": 41,
     "metadata": {},
     "output_type": "execute_result"
    }
   ],
   "source": [
    "y = 'W'\n",
    "x = ['3P%-O', '3P%-T']\n",
    "model_simple = sm.OLS(data_2014_15['W'], data_2014_15[x]).fit()\n",
    "\n",
    "model = sm.OLS(data_2014_15[y], sm.add_constant(data_2014_15[x])).fit()\n",
    "\n",
    "model.summary()"
   ]
  },
  {
   "cell_type": "code",
   "execution_count": 227,
   "metadata": {},
   "outputs": [
    {
     "name": "stderr",
     "output_type": "stream",
     "text": [
      "//anaconda3/lib/python3.7/site-packages/numpy/core/fromnumeric.py:2389: FutureWarning: Method .ptp is deprecated and will be removed in a future version. Use numpy.ptp instead.\n",
      "  return ptp(axis=axis, out=out, **kwargs)\n"
     ]
    }
   ],
   "source": [
    "y = 'W'\n",
    "x = ['FG%-T', 'FG%-O']\n",
    "model_simple2 = sm.OLS(data['W'], data[total_var]).fit()\n",
    "\n",
    "model2 = sm.OLS(data['W'], sm.add_constant(data[total_var])).fit()"
   ]
  },
  {
   "cell_type": "code",
   "execution_count": 228,
   "metadata": {},
   "outputs": [],
   "source": [
    "# g = sns.jointplot(x=\"FG%-O\", y=\"W\", data=data)"
   ]
  },
  {
   "cell_type": "code",
   "execution_count": 229,
   "metadata": {},
   "outputs": [
    {
     "data": {
      "text/html": [
       "<table class=\"simpletable\">\n",
       "<caption>OLS Regression Results</caption>\n",
       "<tr>\n",
       "  <th>Dep. Variable:</th>            <td>W</td>        <th>  R-squared:         </th> <td>   0.711</td>\n",
       "</tr>\n",
       "<tr>\n",
       "  <th>Model:</th>                   <td>OLS</td>       <th>  Adj. R-squared:    </th> <td>   0.702</td>\n",
       "</tr>\n",
       "<tr>\n",
       "  <th>Method:</th>             <td>Least Squares</td>  <th>  F-statistic:       </th> <td>   82.44</td>\n",
       "</tr>\n",
       "<tr>\n",
       "  <th>Date:</th>             <td>Sun, 01 Dec 2019</td> <th>  Prob (F-statistic):</th> <td>8.66e-19</td>\n",
       "</tr>\n",
       "<tr>\n",
       "  <th>Time:</th>                 <td>14:32:08</td>     <th>  Log-Likelihood:    </th> <td>  52.957</td>\n",
       "</tr>\n",
       "<tr>\n",
       "  <th>No. Observations:</th>      <td>    70</td>      <th>  AIC:               </th> <td>  -99.91</td>\n",
       "</tr>\n",
       "<tr>\n",
       "  <th>Df Residuals:</th>          <td>    67</td>      <th>  BIC:               </th> <td>  -93.17</td>\n",
       "</tr>\n",
       "<tr>\n",
       "  <th>Df Model:</th>              <td>     2</td>      <th>                     </th>     <td> </td>   \n",
       "</tr>\n",
       "<tr>\n",
       "  <th>Covariance Type:</th>      <td>nonrobust</td>    <th>                     </th>     <td> </td>   \n",
       "</tr>\n",
       "</table>\n",
       "<table class=\"simpletable\">\n",
       "<tr>\n",
       "    <td></td>       <th>coef</th>     <th>std err</th>      <th>t</th>      <th>P>|t|</th>  <th>[0.025</th>    <th>0.975]</th>  \n",
       "</tr>\n",
       "<tr>\n",
       "  <th>const</th> <td>    0.3027</td> <td>    0.356</td> <td>    0.851</td> <td> 0.398</td> <td>   -0.408</td> <td>    1.013</td>\n",
       "</tr>\n",
       "<tr>\n",
       "  <th>FG%-T</th> <td>    4.4468</td> <td>    0.508</td> <td>    8.750</td> <td> 0.000</td> <td>    3.432</td> <td>    5.461</td>\n",
       "</tr>\n",
       "<tr>\n",
       "  <th>FG%-O</th> <td>   -3.9951</td> <td>    0.540</td> <td>   -7.392</td> <td> 0.000</td> <td>   -5.074</td> <td>   -2.916</td>\n",
       "</tr>\n",
       "</table>\n",
       "<table class=\"simpletable\">\n",
       "<tr>\n",
       "  <th>Omnibus:</th>       <td> 1.419</td> <th>  Durbin-Watson:     </th> <td>   1.460</td>\n",
       "</tr>\n",
       "<tr>\n",
       "  <th>Prob(Omnibus):</th> <td> 0.492</td> <th>  Jarque-Bera (JB):  </th> <td>   1.461</td>\n",
       "</tr>\n",
       "<tr>\n",
       "  <th>Skew:</th>          <td> 0.299</td> <th>  Prob(JB):          </th> <td>   0.482</td>\n",
       "</tr>\n",
       "<tr>\n",
       "  <th>Kurtosis:</th>      <td> 2.622</td> <th>  Cond. No.          </th> <td>    57.5</td>\n",
       "</tr>\n",
       "</table><br/><br/>Warnings:<br/>[1] Standard Errors assume that the covariance matrix of the errors is correctly specified."
      ],
      "text/plain": [
       "<class 'statsmodels.iolib.summary.Summary'>\n",
       "\"\"\"\n",
       "                            OLS Regression Results                            \n",
       "==============================================================================\n",
       "Dep. Variable:                      W   R-squared:                       0.711\n",
       "Model:                            OLS   Adj. R-squared:                  0.702\n",
       "Method:                 Least Squares   F-statistic:                     82.44\n",
       "Date:                Sun, 01 Dec 2019   Prob (F-statistic):           8.66e-19\n",
       "Time:                        14:32:08   Log-Likelihood:                 52.957\n",
       "No. Observations:                  70   AIC:                            -99.91\n",
       "Df Residuals:                      67   BIC:                            -93.17\n",
       "Df Model:                           2                                         \n",
       "Covariance Type:            nonrobust                                         \n",
       "==============================================================================\n",
       "                 coef    std err          t      P>|t|      [0.025      0.975]\n",
       "------------------------------------------------------------------------------\n",
       "const          0.3027      0.356      0.851      0.398      -0.408       1.013\n",
       "FG%-T          4.4468      0.508      8.750      0.000       3.432       5.461\n",
       "FG%-O         -3.9951      0.540     -7.392      0.000      -5.074      -2.916\n",
       "==============================================================================\n",
       "Omnibus:                        1.419   Durbin-Watson:                   1.460\n",
       "Prob(Omnibus):                  0.492   Jarque-Bera (JB):                1.461\n",
       "Skew:                           0.299   Prob(JB):                        0.482\n",
       "Kurtosis:                       2.622   Cond. No.                         57.5\n",
       "==============================================================================\n",
       "\n",
       "Warnings:\n",
       "[1] Standard Errors assume that the covariance matrix of the errors is correctly specified.\n",
       "\"\"\""
      ]
     },
     "execution_count": 229,
     "metadata": {},
     "output_type": "execute_result"
    }
   ],
   "source": [
    "def find_coeff_ols(dataset, ind_var, dep_var='W'):\n",
    "    '''\n",
    "    function is designed to take in user chosen dependent, independent variables.\n",
    "    returns model output using ordinary least squares from the statsmodels api.\n",
    "    '''\n",
    "    model_simple = sm.OLS(dataset[dep_var], dataset[ind_var]).fit()\n",
    "    \n",
    "    model = sm.OLS(dataset[dep_var], sm.add_constant(dataset[ind_var])).fit()  \n",
    "    \n",
    "    return model.summary()\n",
    "\n",
    "find_coeff_ols(data, ['FG%-T', 'FG%-O'])"
   ]
  },
  {
   "cell_type": "code",
   "execution_count": 230,
   "metadata": {},
   "outputs": [],
   "source": [
    "def visuals(dataset, desired_data1, desired_data2):\n",
    "    '''\n",
    "    Takes in two variables(generally the independent and dependent), and plots a joint plot.\n",
    "    Kind is set to regression\n",
    "    '''\n",
    "    plot = sns.jointplot(x=str(desired_data1), y=str(desired_data2), data=dataset, kind='reg')\n",
    "        "
   ]
  },
  {
   "cell_type": "code",
   "execution_count": 232,
   "metadata": {
    "scrolled": true
   },
   "outputs": [
    {
     "data": {
      "image/png": "[encoded data removed]",
      "text/plain": [
       "<Figure size 432x432 with 3 Axes>"
      ]
     },
     "metadata": {
      "needs_background": "light"
     },
     "output_type": "display_data"
    }
   ],
   "source": [
    "visuals(data, 'FG%-O', 'W')"
   ]
  },
  {
   "cell_type": "code",
   "execution_count": null,
   "metadata": {},
   "outputs": [],
   "source": []
  }
 ],
 "metadata": {
  "kernelspec": {
   "display_name": "Python 3",
   "language": "python",
   "name": "python3"
  },
  "language_info": {
   "codemirror_mode": {
    "name": "ipython",
    "version": 3
   },
   "file_extension": ".py",
   "mimetype": "text/x-python",
   "name": "python",
   "nbconvert_exporter": "python",
   "pygments_lexer": "ipython3",
   "version": "3.7.3"
  }
 },
 "nbformat": 4,
 "nbformat_minor": 2
}
