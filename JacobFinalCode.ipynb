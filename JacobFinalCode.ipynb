{
 "cells": [
  {
   "cell_type": "code",
   "execution_count": 8,
   "metadata": {},
   "outputs": [],
   "source": [
    "import pandas as pd \n",
    "import statsmodels.api as sm\n",
    "import numpy as np\n",
    "import matplotlib.pyplot as plt\n",
    "import seaborn as sns; sns.set(style=\"white\", color_codes=True)\n",
    "%matplotlib inline"
   ]
  },
  {
   "cell_type": "code",
   "execution_count": 9,
   "metadata": {},
   "outputs": [],
   "source": [
    "data = pd.read_csv('2014-15 B1G Data(hailey).csv')\n",
    "data_2014_15 = data[data['Year'] == '2014-2015'].drop(['L', 'School', 'Year', 'MP', 'Seed', 'Finish', 'G'], 1)\n",
    "data_2015_16 = data[data['Year'] == '2015-2016'].drop(['L', 'School', 'Year', 'MP', 'Seed', 'Finish', 'G'], 1)\n",
    "data_2016_17 = data[data['Year'] == '2016-2017'].drop(['L', 'School', 'Year', 'MP', 'Seed', 'Finish', 'G'], 1)\n",
    "data_2017_18 = data[data['Year'] == '2017-2018'].drop(['L', 'School', 'Year', 'MP', 'Seed', 'Finish', 'G'], 1)\n",
    "data_2018_19 = data[data['Year'] == '2018-2019'].drop(['L', 'School', 'Year', 'MP', 'Seed', 'Finish', 'G'], 1)\n",
    "dataa = data.drop(['L', 'School', 'Year', 'MP', 'Seed', 'Finish', 'G'], 1)"
   ]
  },
  {
   "cell_type": "code",
   "execution_count": 10,
   "metadata": {},
   "outputs": [],
   "source": [
    "ind_variables_2014_15 = [i for i in data_2014_15.columns if i != 'W'] \n",
    "ind_variables_2015_16 = [i for i in data_2015_16.columns if i != 'W']\n",
    "ind_variables_2016_17 = [i for i in data_2016_17.columns if i != 'W']\n",
    "ind_variables_2017_18 = [i for i in data_2017_18.columns if i != 'W']\n",
    "ind_variables_2018_19 = [i for i in data_2018_19.columns if i != 'W']\n",
    "total_var = [i for i in dataa.columns if i != 'W']"
   ]
  },
  {
   "cell_type": "code",
   "execution_count": 11,
   "metadata": {},
   "outputs": [],
   "source": [
    "# test\n",
    "\n",
    "y = 'W'\n",
    "x = ind_variables_2014_15\n",
    "model_simple = sm.OLS(data_2014_15['W'], data_2014_15[ind_variables_2014_15]).fit()\n",
    "\n",
    "model = sm.OLS(data_2014_15[y], sm.add_constant(data_2014_15[ind_variables_2014_15])).fit()"
   ]
  },
  {
   "cell_type": "code",
   "execution_count": 28,
   "metadata": {},
   "outputs": [
    {
     "data": {
      "text/plain": [
       "(0.43655714285714303, 0.026420586897498727, 70)"
      ]
     },
     "execution_count": 28,
     "metadata": {},
     "output_type": "execute_result"
    }
   ],
   "source": [
    "class Variable_relations():\n",
    "    \n",
    "    def __init__(self, dataset, independent_var, dependent_var, return_param=False, return_descriptive_stats=False):\n",
    "        self.dataset = dataset\n",
    "        self.independent_var = str(independent_var)\n",
    "        self.dependent_var = str(dependent_var)\n",
    "        self.return_param = return_param\n",
    "        self.return_descriptive_stats = return_descriptive_stats\n",
    "    \n",
    "    def find_coeff_ols(self):\n",
    "        '''\n",
    "        function is designed to take in user chosen dependent, independent variables.\n",
    "        returns model output using ordinary least squares from the statsmodels api.\n",
    "        If you only want to view coefficients and constants, change return_param to True. \n",
    "        If you want to return descriptive statistics such as mean, std, and the count, set\n",
    "        return_descriptive_stats to True\n",
    "        '''\n",
    "        model_simple = sm.OLS(self.dataset[self.dependent_var], self.dataset[self.independent_var]).fit()\n",
    "        model = sm.OLS(self.dataset[self.dependent_var], sm.add_constant(self.dataset[self.independent_var])).fit()\n",
    "        \n",
    "        if self.return_param:\n",
    "            return model.params\n",
    "        \n",
    "        if self.return_descriptive_stats:\n",
    "            return self.dataset[self.independent_var].mean(), self.dataset[self.independent_var].std(), self.dataset[self.independent_var].count()\n",
    "        \n",
    "        return model.summary()\n",
    "    \n",
    "    def visuals(self):\n",
    "        '''\n",
    "        Takes in two variables(generally the independent and dependent), and plots a joint plot.\n",
    "        Kind is set to regression\n",
    "        '''\n",
    "        plot = sns.jointplot(x=str(self.independent_var), y=str(self.dependent_var), data=self.dataset, kind='reg')\n",
    "\n",
    "new = Variable_relations(data, 'FG%-O', 'W', return_descriptive_stats=True)\n",
    "new.find_coeff_ols()\n"
   ]
  },
  {
   "cell_type": "code",
   "execution_count": 15,
   "metadata": {},
   "outputs": [
    {
     "name": "stderr",
     "output_type": "stream",
     "text": [
      "//anaconda3/lib/python3.7/site-packages/numpy/core/fromnumeric.py:2389: FutureWarning: Method .ptp is deprecated and will be removed in a future version. Use numpy.ptp instead.\n",
      "  return ptp(axis=axis, out=out, **kwargs)\n"
     ]
    },
    {
     "data": {
      "text/plain": [
       "const    0.302728\n",
       "FG%-T    4.446790\n",
       "FG%-O   -3.995054\n",
       "dtype: float64"
      ]
     },
     "execution_count": 15,
     "metadata": {},
     "output_type": "execute_result"
    }
   ],
   "source": [
    "# def find_coeff_ols(dataset, ind_var, dep_var='W', return_param=False):\n",
    "#     '''\n",
    "#     function is designed to take in user chosen dependent, independent variables.\n",
    "#     returns model output using ordinary least squares from the statsmodels api.\n",
    "#     If you only want to view coefficients and constants, change return_param to True. \n",
    "#     '''\n",
    "#     model_simple = sm.OLS(dataset[dep_var], dataset[ind_var]).fit()\n",
    "    \n",
    "#     model = sm.OLS(dataset[dep_var], sm.add_constant(dataset[ind_var])).fit()  \n",
    "    \n",
    "#     if return_param:\n",
    "#         return model.params\n",
    "    \n",
    "#     return model.summary()\n",
    "\n",
    "# find_coeff_ols(data, ['FG%-T', 'FG%-O'], return_param=True)"
   ]
  },
  {
   "cell_type": "code",
   "execution_count": 13,
   "metadata": {},
   "outputs": [],
   "source": [
    "# def visuals(dataset, desired_data1, desired_data2):\n",
    "#     '''\n",
    "#     Takes in two variables(generally the independent and dependent), and plots a joint plot.\n",
    "#     Kind is set to regression\n",
    "#     '''\n",
    "#     plot = sns.jointplot(x=str(desired_data1), y=str(desired_data2), data=dataset, kind='reg')\n",
    "        "
   ]
  },
  {
   "cell_type": "code",
   "execution_count": null,
   "metadata": {},
   "outputs": [],
   "source": []
  }
 ],
 "metadata": {
  "kernelspec": {
   "display_name": "Python 3",
   "language": "python",
   "name": "python3"
  },
  "language_info": {
   "codemirror_mode": {
    "name": "ipython",
    "version": 3
   },
   "file_extension": ".py",
   "mimetype": "text/x-python",
   "name": "python",
   "nbconvert_exporter": "python",
   "pygments_lexer": "ipython3",
   "version": "3.7.3"
  }
 },
 "nbformat": 4,
 "nbformat_minor": 2
}
