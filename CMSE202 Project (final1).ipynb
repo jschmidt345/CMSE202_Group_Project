{
 "cells": [
  {
   "cell_type": "markdown",
   "metadata": {},
   "source": [
    "### <p style=\"text-align: right;\"> Hailey Reese, Jacob Schmidt, Jennifer Abel, Hayden Weiss, Noah Jankowski\n",
    "</p>"
   ]
  },
  {
   "cell_type": "markdown",
   "metadata": {},
   "source": [
    "# Big Ten Conference Basketball Analysis\n",
    "\n",
    "<img src=\"data:image/png;base64,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\" width= 400><p style=\"text-align: right;\">\n",
    "\n",
    "* What team statistics correlate to success in both the Big Ten regular season and tournament?\n",
    "* Can we predict the final standings of the Big Ten conference given a team’s statistical resume?\n",
    "* Can we create a function that accurately predicts the winner when two teams play each other, given their conference statistics, and apply this to a simulation of a Big Ten Tournament?  \n"
   ]
  },
  {
   "cell_type": "code",
   "execution_count": 1,
   "metadata": {},
   "outputs": [],
   "source": [
    "#import libraries\n",
    "import numpy as np\n",
    "import pandas as pd\n",
    "import statsmodels.api as sm\n",
    "import matplotlib.pyplot as plt\n",
    "import scipy.linalg\n",
    "from sklearn.decomposition import PCA\n",
    "import seaborn as sns; sns.set(style=\"white\", color_codes=True)\n",
    "from sklearn.linear_model import LogisticRegression\n",
    "from sklearn.metrics import confusion_matrix\n",
    "%matplotlib inline"
   ]
  },
  {
   "cell_type": "markdown",
   "metadata": {},
   "source": [
    "### Principal Component Analysis"
   ]
  },
  {
   "cell_type": "code",
   "execution_count": 2,
   "metadata": {},
   "outputs": [
    {
     "name": "stdout",
     "output_type": "stream",
     "text": [
      "Variance For Each University in the Big 10\n",
      "\n",
      "Michigan State: 21421.582\n",
      "Purdue: 15081.201\n",
      "Michigan: 7283.76\n",
      "Wisconsin: 4493.635\n",
      "Maryland: 2673.587\n",
      "Iowa: 2475.809\n",
      "Minnesota: 1161.886\n",
      "Ohio State: 969.418\n",
      "Indiana: 576.151\n",
      "Penn State: 459.435\n",
      "Illinois: 309.996\n",
      "Rutgers: 198.286\n",
      "Nebraska: 115.061\n",
      "Northwestern: 0.0\n"
     ]
    }
   ],
   "source": [
    "# PCA analysis\n",
    "B1G_14_15_H = pd.read_csv('B1G Data.csv')  #read data\n",
    "B1G_14_15_H.columns\n",
    "\n",
    "B1G_18_19 = B1G_14_15_H[B1G_14_15_H['Year'] == '2018-2019'] #select data only from 18-19 season\n",
    "\n",
    "pca = PCA()\n",
    "\n",
    "pca_data_18_19 = pca.fit_transform(B1G_18_19.iloc[:,3:50]) #fit pca to data\n",
    "\n",
    "print(\"Variance For Each University in the Big 10\")\n",
    "print(\"\")\n",
    "for i in range(len(B1G_18_19['School'])):\n",
    "    print(B1G_18_19['School'].iloc[i]+\":\",np.round(pca.explained_variance_,3)[i])"
   ]
  },
  {
   "cell_type": "code",
   "execution_count": 3,
   "metadata": {},
   "outputs": [
    {
     "data": {
      "text/html": [
       "<table class=\"simpletable\">\n",
       "<caption>OLS Regression Results</caption>\n",
       "<tr>\n",
       "  <th>Dep. Variable:</th>            <td>W</td>        <th>  R-squared:         </th> <td>   0.159</td>\n",
       "</tr>\n",
       "<tr>\n",
       "  <th>Model:</th>                   <td>OLS</td>       <th>  Adj. R-squared:    </th> <td>   0.147</td>\n",
       "</tr>\n",
       "<tr>\n",
       "  <th>Method:</th>             <td>Least Squares</td>  <th>  F-statistic:       </th> <td>   12.87</td>\n",
       "</tr>\n",
       "<tr>\n",
       "  <th>Date:</th>             <td>Mon, 02 Dec 2019</td> <th>  Prob (F-statistic):</th> <td>0.000623</td>\n",
       "</tr>\n",
       "<tr>\n",
       "  <th>Time:</th>                 <td>12:20:11</td>     <th>  Log-Likelihood:    </th> <td>  15.574</td>\n",
       "</tr>\n",
       "<tr>\n",
       "  <th>No. Observations:</th>      <td>    70</td>      <th>  AIC:               </th> <td>  -27.15</td>\n",
       "</tr>\n",
       "<tr>\n",
       "  <th>Df Residuals:</th>          <td>    68</td>      <th>  BIC:               </th> <td>  -22.65</td>\n",
       "</tr>\n",
       "<tr>\n",
       "  <th>Df Model:</th>              <td>     1</td>      <th>                     </th>     <td> </td>   \n",
       "</tr>\n",
       "<tr>\n",
       "  <th>Covariance Type:</th>      <td>nonrobust</td>    <th>                     </th>     <td> </td>   \n",
       "</tr>\n",
       "</table>\n",
       "<table class=\"simpletable\">\n",
       "<tr>\n",
       "    <td></td>       <th>coef</th>     <th>std err</th>      <th>t</th>      <th>P>|t|</th>  <th>[0.025</th>    <th>0.975]</th>  \n",
       "</tr>\n",
       "<tr>\n",
       "  <th>const</th> <td>    1.4625</td> <td>    0.269</td> <td>    5.431</td> <td> 0.000</td> <td>    0.925</td> <td>    2.000</td>\n",
       "</tr>\n",
       "<tr>\n",
       "  <th>FG-O</th>  <td>   -0.0021</td> <td>    0.001</td> <td>   -3.588</td> <td> 0.001</td> <td>   -0.003</td> <td>   -0.001</td>\n",
       "</tr>\n",
       "</table>\n",
       "<table class=\"simpletable\">\n",
       "<tr>\n",
       "  <th>Omnibus:</th>       <td> 3.003</td> <th>  Durbin-Watson:     </th> <td>   0.999</td>\n",
       "</tr>\n",
       "<tr>\n",
       "  <th>Prob(Omnibus):</th> <td> 0.223</td> <th>  Jarque-Bera (JB):  </th> <td>   1.871</td>\n",
       "</tr>\n",
       "<tr>\n",
       "  <th>Skew:</th>          <td>-0.158</td> <th>  Prob(JB):          </th> <td>   0.392</td>\n",
       "</tr>\n",
       "<tr>\n",
       "  <th>Kurtosis:</th>      <td> 2.264</td> <th>  Cond. No.          </th> <td>5.22e+03</td>\n",
       "</tr>\n",
       "</table><br/><br/>Warnings:<br/>[1] Standard Errors assume that the covariance matrix of the errors is correctly specified.<br/>[2] The condition number is large, 5.22e+03. This might indicate that there are<br/>strong multicollinearity or other numerical problems."
      ],
      "text/plain": [
       "<class 'statsmodels.iolib.summary.Summary'>\n",
       "\"\"\"\n",
       "                            OLS Regression Results                            \n",
       "==============================================================================\n",
       "Dep. Variable:                      W   R-squared:                       0.159\n",
       "Model:                            OLS   Adj. R-squared:                  0.147\n",
       "Method:                 Least Squares   F-statistic:                     12.87\n",
       "Date:                Mon, 02 Dec 2019   Prob (F-statistic):           0.000623\n",
       "Time:                        12:20:11   Log-Likelihood:                 15.574\n",
       "No. Observations:                  70   AIC:                            -27.15\n",
       "Df Residuals:                      68   BIC:                            -22.65\n",
       "Df Model:                           1                                         \n",
       "Covariance Type:            nonrobust                                         \n",
       "==============================================================================\n",
       "                 coef    std err          t      P>|t|      [0.025      0.975]\n",
       "------------------------------------------------------------------------------\n",
       "const          1.4625      0.269      5.431      0.000       0.925       2.000\n",
       "FG-O          -0.0021      0.001     -3.588      0.001      -0.003      -0.001\n",
       "==============================================================================\n",
       "Omnibus:                        3.003   Durbin-Watson:                   0.999\n",
       "Prob(Omnibus):                  0.223   Jarque-Bera (JB):                1.871\n",
       "Skew:                          -0.158   Prob(JB):                        0.392\n",
       "Kurtosis:                       2.264   Cond. No.                     5.22e+03\n",
       "==============================================================================\n",
       "\n",
       "Warnings:\n",
       "[1] Standard Errors assume that the covariance matrix of the errors is correctly specified.\n",
       "[2] The condition number is large, 5.22e+03. This might indicate that there are\n",
       "strong multicollinearity or other numerical problems.\n",
       "\"\"\""
      ]
     },
     "execution_count": 3,
     "metadata": {},
     "output_type": "execute_result"
    },
    {
     "data": {
      "image/png": "[encoded data removed]",
      "text/plain": [
       "<Figure size 432x288 with 1 Axes>"
      ]
     },
     "metadata": {},
     "output_type": "display_data"
    }
   ],
   "source": [
    "# OLS and relationship analysis \n",
    "\n",
    "    #read in data and separate by years\n",
    "data = pd.read_csv('B1G Data.csv')\n",
    "data_2014_15 = data[data['Year'] == '2014-2015'].drop(['L', 'School', 'Year', 'MP', 'Seed', 'Finish', 'G'], 1)\n",
    "data_2015_16 = data[data['Year'] == '2015-2016'].drop(['L', 'School', 'Year', 'MP', 'Seed', 'Finish', 'G'], 1)\n",
    "data_2016_17 = data[data['Year'] == '2016-2017'].drop(['L', 'School', 'Year', 'MP', 'Seed', 'Finish', 'G'], 1)\n",
    "data_2017_18 = data[data['Year'] == '2017-2018'].drop(['L', 'School', 'Year', 'MP', 'Seed', 'Finish', 'G'], 1)\n",
    "data_2018_19 = data[data['Year'] == '2018-2019'].drop(['L', 'School', 'Year', 'MP', 'Seed', 'Finish', 'G'], 1)\n",
    "dataa = data.drop(['L', 'School', 'Year', 'MP', 'Seed', 'Finish', 'G'], 1)\n",
    "\n",
    "ind_variables_2014_15 = [i for i in data_2014_15.columns if i != 'W'] \n",
    "ind_variables_2015_16 = [i for i in data_2015_16.columns if i != 'W']\n",
    "ind_variables_2016_17 = [i for i in data_2016_17.columns if i != 'W']\n",
    "ind_variables_2017_18 = [i for i in data_2017_18.columns if i != 'W']\n",
    "ind_variables_2018_19 = [i for i in data_2018_19.columns if i != 'W']\n",
    "total_var = [i for i in dataa.columns if i != 'W']\n",
    "plt.hist(data['3P%-T'])\n",
    "plt.title('Distribution of Team 3point shooting %')\n",
    "\n",
    "class Variable_relations():\n",
    "    \n",
    "    def __init__(self, dataset, independent_var, dependent_var, return_param=False, return_descriptive_stats=False):\n",
    "        self.dataset = dataset\n",
    "        self.independent_var = str(independent_var)\n",
    "        self.dependent_var = str(dependent_var)\n",
    "        self.return_param = return_param\n",
    "        self.return_descriptive_stats = return_descriptive_stats\n",
    "    \n",
    "    def find_coeff_ols(self):\n",
    "        '''\n",
    "        function is designed to take in user chosen dependent, independent variables.\n",
    "        returns model output using ordinary least squares from the statsmodels api.\n",
    "        If you only want to view coefficients and constants, change return_param to True. \n",
    "        If you want to return descriptive statistics such as mean, std, and the count, set\n",
    "        return_descriptive_stats to True\n",
    "        '''\n",
    "        model_simple = sm.OLS(self.dataset[self.dependent_var], self.dataset[self.independent_var]).fit()\n",
    "        model = sm.OLS(self.dataset[self.dependent_var], sm.add_constant(self.dataset[self.independent_var])).fit()\n",
    "        \n",
    "        if self.return_param:\n",
    "            return model.params\n",
    "        \n",
    "        if self.return_descriptive_stats:\n",
    "            return self.dataset[self.independent_var].mean(), self.dataset[self.independent_var].std(), self.dataset[self.independent_var].count()\n",
    "        \n",
    "        return model.summary()\n",
    "    \n",
    "    def visuals(self):\n",
    "        '''\n",
    "        Takes in two variables(generally the independent and dependent), and plots a joint plot.\n",
    "        Kind is set to regression\n",
    "        '''\n",
    "        plot = sns.jointplot(x=str(self.independent_var), y=str(self.dependent_var), data=self.dataset, kind='reg')\n",
    "\n",
    "new = Variable_relations(dataa, 'FG-O', 'W')\n",
    "new.find_coeff_ols()"
   ]
  },
  {
   "cell_type": "markdown",
   "metadata": {},
   "source": [
    "### Predicting Big 10 Tournament Seeds Utilizing Classifiers"
   ]
  },
  {
   "cell_type": "code",
   "execution_count": 4,
   "metadata": {},
   "outputs": [
    {
     "data": {
      "text/plain": [
       "Index(['School', 'Year', 'G', 'MP', 'FG-O', 'FG-T', 'FGA-O', 'FGA-T', 'FG%-O',\n",
       "       'FG%-T', '2P-O', '2P-T', '2PA-O', '2PA-T', '2P%-O', '2P%-T', '3P-O',\n",
       "       '3P-T', '3PA-O', '3PA-T', '3P%-O', '3P%-T', 'FT-O', 'FT-T', 'FTA-O',\n",
       "       'FTA-T', 'FT%-O', 'FT%-T', 'ORB-O', 'ORB-T', 'DRB-O', 'DRB-T', 'TRB-O',\n",
       "       'TRB-T', 'AST-O', 'AST-T', 'STL-O', 'STL-T', 'BLK-O', 'BLK-T', 'TOV-O',\n",
       "       'TOV-T', 'PF-O', 'PF-T', 'PTS-O', 'PTS-T', 'PTS/G-O', 'PTS/G-T', 'W',\n",
       "       'L', 'Seed', 'Finish'],\n",
       "      dtype='object')"
      ]
     },
     "execution_count": 4,
     "metadata": {},
     "output_type": "execute_result"
    }
   ],
   "source": [
    "data = pd.read_csv(\"B1G Data.csv\", delimiter=\",\")\n",
    "data.columns"
   ]
  },
  {
   "cell_type": "code",
   "execution_count": 5,
   "metadata": {},
   "outputs": [],
   "source": [
    "data = data[['School','FG%-O', 'FG%-T', '2P%-O', '2P%-T', '3P%-O', '3P%-T', 'FT%-O', 'FT%-T', \"W\", \"L\", \"Seed\"]]\n",
    "test = data[56:]\n",
    "data = data.drop(data.index[56:])\n",
    "data = data.reindex(np.random.permutation(data.index))\n",
    "test = test.reindex(np.random.permutation(test.index))\n",
    "data = data.append(test)"
   ]
  },
  {
   "cell_type": "markdown",
   "metadata": {},
   "source": [
    "Originally, our idea was to utilzie classifiers to predict the seeds of each team for the 2018-2019 Big 10 Tournament. We utilized the four previous seasons as the training data, and the 2018-2019 season as the testing data. The features of the data would be all the average statistics, this way the features would all be on the same scale. However, this did not work as we had hoped. Classifiers do not take repetition into account, and therefore multiple teams would be assigned the same seed, which as we all know is not how it works. This made our model's accuracy only be 7.14% since it would only get the 1 seed and 14 seed correct."
   ]
  },
  {
   "cell_type": "code",
   "execution_count": 6,
   "metadata": {},
   "outputs": [],
   "source": [
    "train_vectors = data.drop([\"School\", \"Seed\"], axis=1)\n",
    "train_vectors = train_vectors.iloc[0:56]\n",
    "train_labels = data[[\"Seed\"]]\n",
    "train_labels = train_labels.iloc[0:56]\n",
    "\n",
    "test_vectors = data.drop([\"School\", \"Seed\"], axis=1)\n",
    "test_vectors = test_vectors.iloc[56:]\n",
    "test_labels = data[[\"Seed\"]]\n",
    "test_labels = test_labels.iloc[56:]"
   ]
  },
  {
   "cell_type": "code",
   "execution_count": 7,
   "metadata": {},
   "outputs": [
    {
     "name": "stderr",
     "output_type": "stream",
     "text": [
      "/anaconda3/lib/python3.6/site-packages/sklearn/utils/validation.py:578: DataConversionWarning: A column-vector y was passed when a 1d array was expected. Please change the shape of y to (n_samples, ), for example using ravel().\n",
      "  y = column_or_1d(y, warn=True)\n"
     ]
    },
    {
     "data": {
      "text/plain": [
       "LogisticRegression(C=1.0, class_weight=None, dual=False, fit_intercept=True,\n",
       "          intercept_scaling=1, max_iter=100, multi_class='ovr', n_jobs=1,\n",
       "          penalty='l2', random_state=0, solver='liblinear', tol=0.0001,\n",
       "          verbose=0, warm_start=False)"
      ]
     },
     "execution_count": 7,
     "metadata": {},
     "output_type": "execute_result"
    }
   ],
   "source": [
    "from sklearn.linear_model import LogisticRegression\n",
    "classifier = LogisticRegression(random_state = 0)\n",
    "classifier.fit(train_vectors, train_labels)"
   ]
  },
  {
   "cell_type": "code",
   "execution_count": 8,
   "metadata": {},
   "outputs": [
    {
     "name": "stdout",
     "output_type": "stream",
     "text": [
      "[ 1 14  1 14 14  1  1 13 14 12 13 14  1  8]\n",
      "    Seed\n",
      "58     3\n",
      "65    10\n",
      "60     5\n",
      "68    13\n",
      "67    12\n",
      "59     4\n",
      "57     2\n",
      "63     8\n",
      "66    11\n",
      "62     7\n",
      "64     9\n",
      "69    14\n",
      "56     1\n",
      "61     6\n"
     ]
    }
   ],
   "source": [
    "Y_pred = classifier.predict(test_vectors)\n",
    "print(Y_pred)\n",
    "print(test_labels)"
   ]
  },
  {
   "cell_type": "code",
   "execution_count": 9,
   "metadata": {},
   "outputs": [],
   "source": [
    "from sklearn.metrics import confusion_matrix\n",
    "cm = confusion_matrix(test_labels, Y_pred)\n",
    "correct = cm[0][0] + cm[1][1]"
   ]
  },
  {
   "cell_type": "code",
   "execution_count": 10,
   "metadata": {},
   "outputs": [
    {
     "name": "stdout",
     "output_type": "stream",
     "text": [
      "Accuracy of Model:  7.142857142857142 %\n"
     ]
    }
   ],
   "source": [
    "accuracy = correct / len(test_labels)\n",
    "print(\"Accuracy of Model: \", accuracy*100, \"%\")"
   ]
  },
  {
   "cell_type": "markdown",
   "metadata": {},
   "source": [
    "Still wanting to attempt to utilize classifiers to predict the seeds of each team, we then decided to use classifiers to predict if a team would be in the top 7 or bottom 7 seeds. However, the issue with this was that the classifier does not know we want it to be an even top 7 and bottom 7, which is why our accuracy was only 85%, because it had put only 5 teams in the top half and 8 teams in the bottom half."
   ]
  },
  {
   "cell_type": "code",
   "execution_count": 11,
   "metadata": {},
   "outputs": [],
   "source": [
    "quantile_list = []\n",
    "for i in data.index:\n",
    "    seed = data[\"Seed\"][i]\n",
    "    if seed == 1 or seed == 2 or seed == 3 or seed == 4 or seed == 5 or seed == 6 or seed == 7:\n",
    "        quantile = \"Top Half\"\n",
    "    else:\n",
    "        quantile = \"Bottom Half\"\n",
    "    quantile_list.append(quantile)\n",
    "    \n",
    "data[\"Quantile\"] = quantile_list"
   ]
  },
  {
   "cell_type": "code",
   "execution_count": 12,
   "metadata": {},
   "outputs": [],
   "source": [
    "train_vectors = data.drop([\"School\", \"Seed\", \"Quantile\"], axis=1)\n",
    "train_vectors = train_vectors.iloc[0:56]\n",
    "train_labels = data[[\"Quantile\"]]\n",
    "train_labels = train_labels.iloc[0:56]\n",
    "\n",
    "test_vectors = data.drop([\"School\", \"Seed\", \"Quantile\"], axis=1)\n",
    "test_vectors = test_vectors.iloc[56:]\n",
    "test_labels = data[[\"Quantile\"]]\n",
    "test_labels = test_labels.iloc[56:]"
   ]
  },
  {
   "cell_type": "code",
   "execution_count": 13,
   "metadata": {},
   "outputs": [
    {
     "name": "stderr",
     "output_type": "stream",
     "text": [
      "/anaconda3/lib/python3.6/site-packages/sklearn/utils/validation.py:578: DataConversionWarning: A column-vector y was passed when a 1d array was expected. Please change the shape of y to (n_samples, ), for example using ravel().\n",
      "  y = column_or_1d(y, warn=True)\n"
     ]
    },
    {
     "data": {
      "text/plain": [
       "LogisticRegression(C=1.0, class_weight=None, dual=False, fit_intercept=True,\n",
       "          intercept_scaling=1, max_iter=100, multi_class='ovr', n_jobs=1,\n",
       "          penalty='l2', random_state=0, solver='liblinear', tol=0.0001,\n",
       "          verbose=0, warm_start=False)"
      ]
     },
     "execution_count": 13,
     "metadata": {},
     "output_type": "execute_result"
    }
   ],
   "source": [
    "from sklearn.linear_model import LogisticRegression\n",
    "classifier = LogisticRegression(random_state = 0)\n",
    "classifier.fit(train_vectors, train_labels)"
   ]
  },
  {
   "cell_type": "code",
   "execution_count": 14,
   "metadata": {
    "scrolled": true
   },
   "outputs": [
    {
     "name": "stdout",
     "output_type": "stream",
     "text": [
      "['Top Half' 'Bottom Half' 'Top Half' 'Bottom Half' 'Bottom Half'\n",
      " 'Top Half' 'Top Half' 'Bottom Half' 'Bottom Half' 'Bottom Half'\n",
      " 'Bottom Half' 'Bottom Half' 'Top Half' 'Bottom Half']\n",
      "       Quantile\n",
      "58     Top Half\n",
      "65  Bottom Half\n",
      "60     Top Half\n",
      "68  Bottom Half\n",
      "67  Bottom Half\n",
      "59     Top Half\n",
      "57     Top Half\n",
      "63  Bottom Half\n",
      "66  Bottom Half\n",
      "62     Top Half\n",
      "64  Bottom Half\n",
      "69  Bottom Half\n",
      "56     Top Half\n",
      "61     Top Half\n"
     ]
    }
   ],
   "source": [
    "Y_pred = classifier.predict(test_vectors)\n",
    "print(Y_pred)\n",
    "print(test_labels)"
   ]
  },
  {
   "cell_type": "code",
   "execution_count": 15,
   "metadata": {},
   "outputs": [],
   "source": [
    "from sklearn.metrics import confusion_matrix\n",
    "cm = confusion_matrix(test_labels, Y_pred)\n",
    "correct = cm[0][0] + cm[1][1]"
   ]
  },
  {
   "cell_type": "code",
   "execution_count": 16,
   "metadata": {},
   "outputs": [
    {
     "name": "stdout",
     "output_type": "stream",
     "text": [
      "Accuracy of Model:  85.71428571428571 %\n"
     ]
    }
   ],
   "source": [
    "accuracy = correct / len(test_labels)\n",
    "print(\"Accuracy of Model: \", accuracy*100, \"%\")"
   ]
  },
  {
   "cell_type": "markdown",
   "metadata": {},
   "source": [
    "The final attempt to utilize the classifiers to assist in predicting seeds was to first use the above model, even though it was not perfect, to predict if a team was in the top or bottom half. Then we would use a team's record to help place them into specific seeds. If two teams had them same record, then we would use another classifier to help distinguish which team would have the better seed. However, when attempting this to distinguish the number 1 and numbers 2 seeds, the classifier just predicted them both to be number 1, and so this approach did not work either."
   ]
  },
  {
   "cell_type": "code",
   "execution_count": 17,
   "metadata": {},
   "outputs": [
    {
     "name": "stdout",
     "output_type": "stream",
     "text": [
      "            School  FG%-O  FG%-T  2P%-O  2P%-T  3P%-O  3P%-T  FT%-O  FT%-T  \\\n",
      "58        Michigan  0.411  0.439  0.460  0.504  0.292  0.338  0.680  0.737   \n",
      "65      Penn State  0.441  0.413  0.475  0.472  0.372  0.305  0.731  0.686   \n",
      "60        Maryland  0.391  0.435  0.445  0.478  0.310  0.363  0.714  0.766   \n",
      "68        Nebraska  0.446  0.405  0.484  0.450  0.373  0.322  0.705  0.680   \n",
      "67         Rutgers  0.441  0.420  0.485  0.467  0.367  0.314  0.705  0.643   \n",
      "59       Wisconsin  0.384  0.438  0.424  0.478  0.307  0.359  0.672  0.604   \n",
      "57          Purdue  0.411  0.433  0.469  0.485  0.332  0.363  0.724  0.726   \n",
      "63      Ohio State  0.435  0.410  0.492  0.471  0.336  0.321  0.737  0.734   \n",
      "66        Illinois  0.469  0.424  0.543  0.471  0.325  0.334  0.752  0.723   \n",
      "62       Minnesota  0.441  0.435  0.495  0.478  0.338  0.326  0.687  0.677   \n",
      "64         Indiana  0.436  0.418  0.490  0.490  0.343  0.275  0.636  0.679   \n",
      "69    Northwestern  0.428  0.385  0.493  0.439  0.294  0.299  0.728  0.738   \n",
      "56  Michigan State  0.376  0.479  0.419  0.551  0.305  0.355  0.678  0.771   \n",
      "61            Iowa  0.461  0.436  0.547  0.482  0.339  0.358  0.717  0.740   \n",
      "\n",
      "       W     L  Seed     Quantile  \n",
      "58  0.75  0.25     3     Top Half  \n",
      "65  0.35  0.65    10  Bottom Half  \n",
      "60  0.65  0.35     5     Top Half  \n",
      "68  0.30  0.70    13  Bottom Half  \n",
      "67  0.35  0.65    12  Bottom Half  \n",
      "59  0.70  0.30     4     Top Half  \n",
      "57  0.80  0.20     2     Top Half  \n",
      "63  0.40  0.60     8  Bottom Half  \n",
      "66  0.35  0.65    11  Bottom Half  \n",
      "62  0.45  0.55     7     Top Half  \n",
      "64  0.40  0.60     9  Bottom Half  \n",
      "69  0.20  0.80    14  Bottom Half  \n",
      "56  0.80  0.20     1     Top Half  \n",
      "61  0.50  0.50     6     Top Half  \n"
     ]
    }
   ],
   "source": [
    "print(data[56:])"
   ]
  },
  {
   "cell_type": "code",
   "execution_count": 18,
   "metadata": {},
   "outputs": [
    {
     "name": "stderr",
     "output_type": "stream",
     "text": [
      "/anaconda3/lib/python3.6/site-packages/ipykernel_launcher.py:11: SettingWithCopyWarning: \n",
      "A value is trying to be set on a copy of a slice from a DataFrame.\n",
      "Try using .loc[row_indexer,col_indexer] = value instead\n",
      "\n",
      "See the caveats in the documentation: http://pandas.pydata.org/pandas-docs/stable/indexing.html#indexing-view-versus-copy\n",
      "  # This is added back by InteractiveShellApp.init_path()\n"
     ]
    }
   ],
   "source": [
    "top_two = data[data[\"Seed\"].isin([1,2])]\n",
    "quantile_list = []\n",
    "for i in top_two.index:\n",
    "    seed = top_two[\"Seed\"][i]\n",
    "    if seed == 1:\n",
    "        quantile = \"Number 1\"\n",
    "    else:\n",
    "        quantile = \"Number 2\"\n",
    "    quantile_list.append(quantile)\n",
    "    \n",
    "top_two[\"Quantile 2\"] = np.array(quantile_list)"
   ]
  },
  {
   "cell_type": "code",
   "execution_count": 19,
   "metadata": {},
   "outputs": [],
   "source": [
    "train_vectors = top_two.drop([\"School\", \"Seed\", \"Quantile\", \"Quantile 2\", \"W\", \"L\"], axis=1)\n",
    "train_vectors = train_vectors.iloc[0:-2]\n",
    "train_labels = top_two[[\"Quantile 2\"]]\n",
    "train_labels = train_labels.iloc[0:-2]\n",
    "\n",
    "test_vectors = top_two.drop([\"School\", \"Seed\", \"Quantile\", \"Quantile 2\", \"W\", \"L\"], axis=1)\n",
    "test_vectors = test_vectors.iloc[-2:]\n",
    "test_labels = top_two[[\"Quantile 2\"]]\n",
    "test_labels = test_labels.iloc[-2:]"
   ]
  },
  {
   "cell_type": "code",
   "execution_count": 20,
   "metadata": {},
   "outputs": [
    {
     "name": "stderr",
     "output_type": "stream",
     "text": [
      "/anaconda3/lib/python3.6/site-packages/sklearn/utils/validation.py:578: DataConversionWarning: A column-vector y was passed when a 1d array was expected. Please change the shape of y to (n_samples, ), for example using ravel().\n",
      "  y = column_or_1d(y, warn=True)\n"
     ]
    },
    {
     "data": {
      "text/plain": [
       "LogisticRegression(C=1.0, class_weight=None, dual=False, fit_intercept=True,\n",
       "          intercept_scaling=1, max_iter=100, multi_class='ovr', n_jobs=1,\n",
       "          penalty='l2', random_state=0, solver='liblinear', tol=0.0001,\n",
       "          verbose=0, warm_start=False)"
      ]
     },
     "execution_count": 20,
     "metadata": {},
     "output_type": "execute_result"
    }
   ],
   "source": [
    "from sklearn.linear_model import LogisticRegression\n",
    "classifier = LogisticRegression(random_state = 0)\n",
    "classifier.fit(train_vectors, train_labels)"
   ]
  },
  {
   "cell_type": "code",
   "execution_count": 21,
   "metadata": {},
   "outputs": [
    {
     "name": "stdout",
     "output_type": "stream",
     "text": [
      "['Number 1' 'Number 1']\n",
      "   Quantile 2\n",
      "57   Number 2\n",
      "56   Number 1\n"
     ]
    }
   ],
   "source": [
    "Y_pred = classifier.predict(test_vectors)\n",
    "print(Y_pred)\n",
    "print(test_labels)"
   ]
  },
  {
   "cell_type": "markdown",
   "metadata": {},
   "source": [
    "### Predicting 2018-2019 Big Ten Tournament"
   ]
  },
  {
   "cell_type": "code",
   "execution_count": 22,
   "metadata": {},
   "outputs": [],
   "source": [
    "data = pd.read_csv(\"B1G Data.csv\", delimiter=\",\")"
   ]
  },
  {
   "cell_type": "code",
   "execution_count": 24,
   "metadata": {},
   "outputs": [],
   "source": [
    "new_data = pd.read_csv(\"CMSE 202 - Sheet1.csv\", delimiter=\",\")"
   ]
  },
  {
   "cell_type": "code",
   "execution_count": 25,
   "metadata": {},
   "outputs": [
    {
     "data": {
      "text/html": [
       "<div>\n",
       "<style scoped>\n",
       "    .dataframe tbody tr th:only-of-type {\n",
       "        vertical-align: middle;\n",
       "    }\n",
       "\n",
       "    .dataframe tbody tr th {\n",
       "        vertical-align: top;\n",
       "    }\n",
       "\n",
       "    .dataframe thead th {\n",
       "        text-align: right;\n",
       "    }\n",
       "</style>\n",
       "<table border=\"1\" class=\"dataframe\">\n",
       "  <thead>\n",
       "    <tr style=\"text-align: right;\">\n",
       "      <th></th>\n",
       "      <th>Team</th>\n",
       "      <th>AdjO</th>\n",
       "      <th>adjD</th>\n",
       "      <th>adjT</th>\n",
       "      <th>Luck</th>\n",
       "    </tr>\n",
       "  </thead>\n",
       "  <tbody>\n",
       "    <tr>\n",
       "      <th>0</th>\n",
       "      <td>Michigan State</td>\n",
       "      <td>121.0</td>\n",
       "      <td>89.3</td>\n",
       "      <td>72.1</td>\n",
       "      <td>0.018</td>\n",
       "    </tr>\n",
       "    <tr>\n",
       "      <th>1</th>\n",
       "      <td>Michigan</td>\n",
       "      <td>114.5</td>\n",
       "      <td>86.2</td>\n",
       "      <td>64.8</td>\n",
       "      <td>-0.001</td>\n",
       "    </tr>\n",
       "    <tr>\n",
       "      <th>2</th>\n",
       "      <td>Purdue</td>\n",
       "      <td>122.5</td>\n",
       "      <td>95.6</td>\n",
       "      <td>65.9</td>\n",
       "      <td>-0.015</td>\n",
       "    </tr>\n",
       "    <tr>\n",
       "      <th>3</th>\n",
       "      <td>Wisconsin</td>\n",
       "      <td>110.4</td>\n",
       "      <td>88.5</td>\n",
       "      <td>63.9</td>\n",
       "      <td>-0.018</td>\n",
       "    </tr>\n",
       "    <tr>\n",
       "      <th>4</th>\n",
       "      <td>Maryland</td>\n",
       "      <td>113.4</td>\n",
       "      <td>94.1</td>\n",
       "      <td>66.0</td>\n",
       "      <td>-0.004</td>\n",
       "    </tr>\n",
       "    <tr>\n",
       "      <th>5</th>\n",
       "      <td>Iowa</td>\n",
       "      <td>117.4</td>\n",
       "      <td>101.3</td>\n",
       "      <td>69.5</td>\n",
       "      <td>0.050</td>\n",
       "    </tr>\n",
       "    <tr>\n",
       "      <th>6</th>\n",
       "      <td>Indiana</td>\n",
       "      <td>109.1</td>\n",
       "      <td>95.4</td>\n",
       "      <td>66.9</td>\n",
       "      <td>-0.034</td>\n",
       "    </tr>\n",
       "    <tr>\n",
       "      <th>7</th>\n",
       "      <td>Illinois</td>\n",
       "      <td>109.1</td>\n",
       "      <td>101.1</td>\n",
       "      <td>70.6</td>\n",
       "      <td>-0.052</td>\n",
       "    </tr>\n",
       "    <tr>\n",
       "      <th>8</th>\n",
       "      <td>Ohio State</td>\n",
       "      <td>109.1</td>\n",
       "      <td>94.4</td>\n",
       "      <td>65.8</td>\n",
       "      <td>0.013</td>\n",
       "    </tr>\n",
       "    <tr>\n",
       "      <th>9</th>\n",
       "      <td>Penn State</td>\n",
       "      <td>109.4</td>\n",
       "      <td>94.5</td>\n",
       "      <td>67.6</td>\n",
       "      <td>-0.102</td>\n",
       "    </tr>\n",
       "    <tr>\n",
       "      <th>10</th>\n",
       "      <td>Northwestern</td>\n",
       "      <td>102.9</td>\n",
       "      <td>93.8</td>\n",
       "      <td>66.0</td>\n",
       "      <td>-0.111</td>\n",
       "    </tr>\n",
       "    <tr>\n",
       "      <th>11</th>\n",
       "      <td>Minnesota</td>\n",
       "      <td>111.4</td>\n",
       "      <td>97.0</td>\n",
       "      <td>67.4</td>\n",
       "      <td>0.086</td>\n",
       "    </tr>\n",
       "    <tr>\n",
       "      <th>12</th>\n",
       "      <td>Rutgers</td>\n",
       "      <td>105.6</td>\n",
       "      <td>96.8</td>\n",
       "      <td>67.7</td>\n",
       "      <td>-0.020</td>\n",
       "    </tr>\n",
       "    <tr>\n",
       "      <th>13</th>\n",
       "      <td>Nebraska</td>\n",
       "      <td>113.5</td>\n",
       "      <td>99.1</td>\n",
       "      <td>66.4</td>\n",
       "      <td>-0.046</td>\n",
       "    </tr>\n",
       "  </tbody>\n",
       "</table>\n",
       "</div>"
      ],
      "text/plain": [
       "              Team   AdjO   adjD  adjT   Luck\n",
       "0   Michigan State  121.0   89.3  72.1  0.018\n",
       "1         Michigan  114.5   86.2  64.8 -0.001\n",
       "2           Purdue  122.5   95.6  65.9 -0.015\n",
       "3        Wisconsin  110.4   88.5  63.9 -0.018\n",
       "4         Maryland  113.4   94.1  66.0 -0.004\n",
       "5             Iowa  117.4  101.3  69.5  0.050\n",
       "6          Indiana  109.1   95.4  66.9 -0.034\n",
       "7         Illinois  109.1  101.1  70.6 -0.052\n",
       "8       Ohio State  109.1   94.4  65.8  0.013\n",
       "9       Penn State  109.4   94.5  67.6 -0.102\n",
       "10    Northwestern  102.9   93.8  66.0 -0.111\n",
       "11       Minnesota  111.4   97.0  67.4  0.086\n",
       "12         Rutgers  105.6   96.8  67.7 -0.020\n",
       "13        Nebraska  113.5   99.1  66.4 -0.046"
      ]
     },
     "execution_count": 25,
     "metadata": {},
     "output_type": "execute_result"
    }
   ],
   "source": [
    "new_data"
   ]
  },
  {
   "cell_type": "code",
   "execution_count": 26,
   "metadata": {},
   "outputs": [
    {
     "name": "stdout",
     "output_type": "stream",
     "text": [
      "{'Michigan State': 0.9705043807363638, 'Michigan': 0.9632049688841307, 'Purdue': 0.9453852959822671, 'Wisconsin': 0.9270840749241518, 'Maryland': 0.895245499910568, 'Iowa': 0.8450450756086427, 'Indiana': 0.8239211047244581, 'Illinois': 0.7059469330933372, 'Ohio State': 0.8408175851638855, 'Penn State': 0.8433974351057613, 'Northwestern': 0.7436100128498285, 'Minnesota': 0.8308675153308951, 'Rutgers': 0.7311825903137232, 'Nebraska': 0.8263883696678633}\n"
     ]
    }
   ],
   "source": [
    "my_dict = {}\n",
    "for i in range(len(new_data[\"Team\"])):\n",
    "    adjo = new_data[\"AdjO\"][i]\n",
    "    adjd = new_data[\"adjD\"][i]\n",
    "    winning_percentage = adjo**11.5 / (adjo**11.5 + adjd**11.5)\n",
    "    my_dict[new_data[\"Team\"][i]] = winning_percentage\n",
    "print(my_dict)"
   ]
  },
  {
   "cell_type": "code",
   "execution_count": 32,
   "metadata": {},
   "outputs": [],
   "source": [
    "\n",
    "def initialize(image_name,schools):\n",
    "    '''\n",
    "    Initializes bracket of tournament\n",
    "    '''\n",
    "    from PIL import Image, ImageDraw, ImageFont\n",
    "\n",
    "    # create Image object with the input image\n",
    "\n",
    "    image = Image.open(image_name)\n",
    "\n",
    "    # initialise the drawing context with\n",
    "    # the image object as background\n",
    "\n",
    "    draw = ImageDraw.Draw(image)\n",
    "    font = ImageFont.truetype('arial.ttf', size=12)\n",
    "    Seed = [0]\n",
    "    for i in range(0,14):\n",
    "        Seed.append(schools[i])\n",
    "    # 1 seed\n",
    "    (x, y) = (268,75)\n",
    "    message = Seed[1]\n",
    "    color = 'rgb(0, 0, 0)' # black color\n",
    "    draw.text((x, y), message, fill=color, font=font)\n",
    "\n",
    "    # 4 seed\n",
    "    (x, y) = (268,160)\n",
    "    message = Seed[4]\n",
    "    color = 'rgb(0, 0, 0)' # black color\n",
    "    draw.text((x, y), message, fill=color, font=font)\n",
    "\n",
    "    # 2 seed\n",
    "    (x, y) = (268,292)\n",
    "    message = Seed[2]\n",
    "    color = 'rgb(0, 0, 0)' # black color\n",
    "    draw.text((x, y), message, fill=color, font=font)\n",
    "\n",
    "    # 3 seed\n",
    "    (x, y) = (268,376)\n",
    "    message = Seed[3]\n",
    "    color = 'rgb(0, 0, 0)' # black color\n",
    "    draw.text((x, y), message, fill=color, font=font)\n",
    "\n",
    "    # 5 seed\n",
    "    (x, y) = (160,178)\n",
    "    message = Seed[5]\n",
    "    color = 'rgb(0, 0, 0)' # black color\n",
    "    draw.text((x, y), message, fill=color, font=font)\n",
    "\n",
    "    # 7 seed\n",
    "    (x, y) = (160,308)\n",
    "    message = Seed[7]\n",
    "    color = 'rgb(0, 0, 0)' # black color\n",
    "    draw.text((x, y), message, fill=color, font=font)\n",
    "    # 10 seed\n",
    "    (x, y) = (160,325)\n",
    "    message = Seed[10]\n",
    "    color = 'rgb(0, 0, 0)' # black color\n",
    "    draw.text((x, y), message, fill=color, font=font)\n",
    "\n",
    "    # 8 seed\n",
    "    (x, y) = (160,88)\n",
    "    message = Seed[8]\n",
    "    color = 'rgb(0, 0, 0)' # black color\n",
    "    draw.text((x, y), message, fill=color, font=font)\n",
    "    # 9 seed\n",
    "    (x, y) = (160,105)\n",
    "    message = Seed[9]\n",
    "    color = 'rgb(0, 0, 0)' # black color\n",
    "    draw.text((x, y), message, fill=color, font=font)\n",
    "\n",
    "    # 6 seed\n",
    "    (x, y) = (160,395)\n",
    "    message = Seed[6]\n",
    "    color = 'rgb(0, 0, 0)' # black color\n",
    "    draw.text((x, y), message, fill=color, font=font)\n",
    "\n",
    "    # 12 seed\n",
    "    (x, y) = (52,193)\n",
    "    message = Seed[12]\n",
    "    color = 'rgb(0, 0, 0)' # black color\n",
    "    draw.text((x, y), message, fill=color, font=font)\n",
    "    # 13 seed\n",
    "    (x, y) = (52,209)\n",
    "    message = Seed[13]\n",
    "    color = 'rgb(0, 0, 0)' # black color\n",
    "    draw.text((x, y), message, fill=color, font=font)\n",
    "\n",
    "    # 11 seed\n",
    "    (x, y) = (52,412)\n",
    "    message = Seed[11]\n",
    "    color = 'rgb(0, 0, 0)' # black color\n",
    "    draw.text((x, y), message, fill=color, font=font)\n",
    "    # 14 seed\n",
    "    (x, y) = (52,428)\n",
    "    message = Seed[14]\n",
    "    color = 'rgb(0, 0, 0)' # black color\n",
    "    draw.text((x, y), message, fill=color, font=font)\n",
    "    image.save('initial_bracket.png')\n",
    "    return image"
   ]
  },
  {
   "cell_type": "code",
   "execution_count": 33,
   "metadata": {},
   "outputs": [],
   "source": [
    "schools = data[\"School\"].iloc[56:]"
   ]
  },
  {
   "cell_type": "code",
   "execution_count": 34,
   "metadata": {},
   "outputs": [
    {
     "name": "stdout",
     "output_type": "stream",
     "text": [
      "['Michigan State', 'Purdue', 'Michigan', 'Wisconsin', 'Maryland', 'Iowa', 'Minnesota', 'Ohio State', 'Indiana', 'Penn State', 'Illinois', 'Rutgers', 'Nebraska', 'Northwestern']\n"
     ]
    }
   ],
   "source": [
    "schools = list(schools)\n",
    "print(schools)"
   ]
  },
  {
   "cell_type": "code",
   "execution_count": 35,
   "metadata": {},
   "outputs": [
    {
     "ename": "OSError",
     "evalue": "cannot open resource",
     "output_type": "error",
     "traceback": [
      "\u001b[0;31m---------------------------------------------------------------------------\u001b[0m",
      "\u001b[0;31mOSError\u001b[0m                                   Traceback (most recent call last)",
      "\u001b[0;32m<ipython-input-35-1ec5e2c7ba6e>\u001b[0m in \u001b[0;36m<module>\u001b[0;34m()\u001b[0m\n\u001b[0;32m----> 1\u001b[0;31m \u001b[0mimage\u001b[0m \u001b[0;34m=\u001b[0m \u001b[0minitialize\u001b[0m\u001b[0;34m(\u001b[0m\u001b[0;34m'bracket.png'\u001b[0m\u001b[0;34m,\u001b[0m\u001b[0mschools\u001b[0m\u001b[0;34m)\u001b[0m\u001b[0;34m\u001b[0m\u001b[0m\n\u001b[0m\u001b[1;32m      2\u001b[0m \u001b[0mimage\u001b[0m\u001b[0;34m\u001b[0m\u001b[0m\n",
      "\u001b[0;32m<ipython-input-32-3de11a482793>\u001b[0m in \u001b[0;36minitialize\u001b[0;34m(image_name, schools)\u001b[0m\n\u001b[1;32m     14\u001b[0m \u001b[0;34m\u001b[0m\u001b[0m\n\u001b[1;32m     15\u001b[0m     \u001b[0mdraw\u001b[0m \u001b[0;34m=\u001b[0m \u001b[0mImageDraw\u001b[0m\u001b[0;34m.\u001b[0m\u001b[0mDraw\u001b[0m\u001b[0;34m(\u001b[0m\u001b[0mimage\u001b[0m\u001b[0;34m)\u001b[0m\u001b[0;34m\u001b[0m\u001b[0m\n\u001b[0;32m---> 16\u001b[0;31m     \u001b[0mfont\u001b[0m \u001b[0;34m=\u001b[0m \u001b[0mImageFont\u001b[0m\u001b[0;34m.\u001b[0m\u001b[0mtruetype\u001b[0m\u001b[0;34m(\u001b[0m\u001b[0;34m'arial.ttf'\u001b[0m\u001b[0;34m,\u001b[0m \u001b[0msize\u001b[0m\u001b[0;34m=\u001b[0m\u001b[0;36m12\u001b[0m\u001b[0;34m)\u001b[0m\u001b[0;34m\u001b[0m\u001b[0m\n\u001b[0m\u001b[1;32m     17\u001b[0m     \u001b[0mSeed\u001b[0m \u001b[0;34m=\u001b[0m \u001b[0;34m[\u001b[0m\u001b[0;36m0\u001b[0m\u001b[0;34m]\u001b[0m\u001b[0;34m\u001b[0m\u001b[0m\n\u001b[1;32m     18\u001b[0m     \u001b[0;32mfor\u001b[0m \u001b[0mi\u001b[0m \u001b[0;32min\u001b[0m \u001b[0mrange\u001b[0m\u001b[0;34m(\u001b[0m\u001b[0;36m0\u001b[0m\u001b[0;34m,\u001b[0m\u001b[0;36m14\u001b[0m\u001b[0;34m)\u001b[0m\u001b[0;34m:\u001b[0m\u001b[0;34m\u001b[0m\u001b[0m\n",
      "\u001b[0;32m/anaconda3/lib/python3.6/site-packages/PIL/ImageFont.py\u001b[0m in \u001b[0;36mtruetype\u001b[0;34m(font, size, index, encoding, layout_engine)\u001b[0m\n\u001b[1;32m    259\u001b[0m \u001b[0;34m\u001b[0m\u001b[0m\n\u001b[1;32m    260\u001b[0m     \u001b[0;32mtry\u001b[0m\u001b[0;34m:\u001b[0m\u001b[0;34m\u001b[0m\u001b[0m\n\u001b[0;32m--> 261\u001b[0;31m         \u001b[0;32mreturn\u001b[0m \u001b[0mFreeTypeFont\u001b[0m\u001b[0;34m(\u001b[0m\u001b[0mfont\u001b[0m\u001b[0;34m,\u001b[0m \u001b[0msize\u001b[0m\u001b[0;34m,\u001b[0m \u001b[0mindex\u001b[0m\u001b[0;34m,\u001b[0m \u001b[0mencoding\u001b[0m\u001b[0;34m,\u001b[0m \u001b[0mlayout_engine\u001b[0m\u001b[0;34m)\u001b[0m\u001b[0;34m\u001b[0m\u001b[0m\n\u001b[0m\u001b[1;32m    262\u001b[0m     \u001b[0;32mexcept\u001b[0m \u001b[0mIOError\u001b[0m\u001b[0;34m:\u001b[0m\u001b[0;34m\u001b[0m\u001b[0m\n\u001b[1;32m    263\u001b[0m         \u001b[0mttf_filename\u001b[0m \u001b[0;34m=\u001b[0m \u001b[0mos\u001b[0m\u001b[0;34m.\u001b[0m\u001b[0mpath\u001b[0m\u001b[0;34m.\u001b[0m\u001b[0mbasename\u001b[0m\u001b[0;34m(\u001b[0m\u001b[0mfont\u001b[0m\u001b[0;34m)\u001b[0m\u001b[0;34m\u001b[0m\u001b[0m\n",
      "\u001b[0;32m/anaconda3/lib/python3.6/site-packages/PIL/ImageFont.py\u001b[0m in \u001b[0;36m__init__\u001b[0;34m(self, font, size, index, encoding, layout_engine)\u001b[0m\n\u001b[1;32m    142\u001b[0m \u001b[0;34m\u001b[0m\u001b[0m\n\u001b[1;32m    143\u001b[0m         \u001b[0;32mif\u001b[0m \u001b[0misPath\u001b[0m\u001b[0;34m(\u001b[0m\u001b[0mfont\u001b[0m\u001b[0;34m)\u001b[0m\u001b[0;34m:\u001b[0m\u001b[0;34m\u001b[0m\u001b[0m\n\u001b[0;32m--> 144\u001b[0;31m             \u001b[0mself\u001b[0m\u001b[0;34m.\u001b[0m\u001b[0mfont\u001b[0m \u001b[0;34m=\u001b[0m \u001b[0mcore\u001b[0m\u001b[0;34m.\u001b[0m\u001b[0mgetfont\u001b[0m\u001b[0;34m(\u001b[0m\u001b[0mfont\u001b[0m\u001b[0;34m,\u001b[0m \u001b[0msize\u001b[0m\u001b[0;34m,\u001b[0m \u001b[0mindex\u001b[0m\u001b[0;34m,\u001b[0m \u001b[0mencoding\u001b[0m\u001b[0;34m,\u001b[0m \u001b[0mlayout_engine\u001b[0m\u001b[0;34m=\u001b[0m\u001b[0mlayout_engine\u001b[0m\u001b[0;34m)\u001b[0m\u001b[0;34m\u001b[0m\u001b[0m\n\u001b[0m\u001b[1;32m    145\u001b[0m         \u001b[0;32melse\u001b[0m\u001b[0;34m:\u001b[0m\u001b[0;34m\u001b[0m\u001b[0m\n\u001b[1;32m    146\u001b[0m             \u001b[0mself\u001b[0m\u001b[0;34m.\u001b[0m\u001b[0mfont_bytes\u001b[0m \u001b[0;34m=\u001b[0m \u001b[0mfont\u001b[0m\u001b[0;34m.\u001b[0m\u001b[0mread\u001b[0m\u001b[0;34m(\u001b[0m\u001b[0;34m)\u001b[0m\u001b[0;34m\u001b[0m\u001b[0m\n",
      "\u001b[0;31mOSError\u001b[0m: cannot open resource"
     ]
    }
   ],
   "source": [
    "image = initialize('bracket.png',schools)\n",
    "image"
   ]
  },
  {
   "cell_type": "markdown",
   "metadata": {},
   "source": [
    "#### Model using a random number generator"
   ]
  },
  {
   "cell_type": "code",
   "execution_count": 31,
   "metadata": {},
   "outputs": [],
   "source": [
    "def tournament(image_name,schools):\n",
    "    '''\n",
    "    Simulates tournament based on random numbers\n",
    "    '''\n",
    "    import numpy as np\n",
    "    from PIL import Image, ImageDraw, ImageFont\n",
    "    image = Image.open(image_name)\n",
    "    draw = ImageDraw.Draw(image)\n",
    "    font = ImageFont.truetype('arial.ttf', size=12)\n",
    "    pick1 = np.random.randint(1,3)\n",
    "    if pick1 == 1:\n",
    "        winner1 = schools[11]\n",
    "    else:\n",
    "        winner1 = schools[12]\n",
    "    pick2 = np.random.randint(1,3)\n",
    "    if pick2 == 1:\n",
    "        winner2 = schools[10]\n",
    "    else:\n",
    "        winner2 = schools[13]\n",
    "    # 5 seed opponent\n",
    "    (x, y) = (160,410)\n",
    "    message = winner2\n",
    "    color = 'rgb(0, 0, 0)' # black color\n",
    "    draw.text((x, y), message, fill=color, font=font)\n",
    "\n",
    "    # 6 seed opponent\n",
    "    (x, y) = (160,195)\n",
    "    message = winner1\n",
    "    color = 'rgb(0, 0, 0)' # black color\n",
    "    draw.text((x, y), message, fill=color, font=font)\n",
    "    image.save('first_round_bracket.png')\n",
    "    \n",
    "    pick3 = np.random.randint(1,3)\n",
    "    if pick1 == 1:\n",
    "        winner3 = schools[7]\n",
    "    else:\n",
    "        winner3 = schools[8]\n",
    "        \n",
    "    pick4 = np.random.randint(1,3)\n",
    "    if pick2 == 1:\n",
    "        winner4 = schools[4]\n",
    "    else:\n",
    "        winner4 = winner1\n",
    "        \n",
    "    pick5 = np.random.randint(1,3)\n",
    "    if pick1 == 1:\n",
    "        winner5 = schools[6]\n",
    "    else:\n",
    "        winner5 = schools[9]\n",
    "        \n",
    "    pick6 = np.random.randint(1,3)\n",
    "    if pick2 == 1:\n",
    "        winner6 = schools[5]\n",
    "    else:\n",
    "        winner6 = winner2\n",
    "        \n",
    "    # 1 seed opponent\n",
    "    (x, y) = (268,91)\n",
    "    message = winner3\n",
    "    color = 'rgb(0, 0, 0)' # black color\n",
    "    draw.text((x, y), message, fill=color, font=font)\n",
    "    \n",
    "        # 4 seed opponent\n",
    "    (x, y) = (268,176)\n",
    "    message = winner4\n",
    "    color = 'rgb(0, 0, 0)' # black color\n",
    "    draw.text((x, y), message, fill=color, font=font)\n",
    "\n",
    "    # 2 seed opponent\n",
    "    (x, y) = (268,308)\n",
    "    message = winner5\n",
    "    color = 'rgb(0, 0, 0)' # black color\n",
    "    draw.text((x, y), message, fill=color, font=font)\n",
    "\n",
    "    # 3 seed opponent\n",
    "    (x, y) = (268,392)\n",
    "    message = winner6\n",
    "    color = 'rgb(0, 0, 0)' # black color\n",
    "    draw.text((x, y), message, fill=color, font=font)\n",
    "    image.save('second_round_bracket.png')\n",
    "    \n",
    "    pick7 = np.random.randint(1,3)\n",
    "    if pick7 == 1:\n",
    "        winner7 = schools[0]\n",
    "    else:\n",
    "        winner7 = winner3\n",
    "        \n",
    "    pick8 = np.random.randint(1,3)\n",
    "    if pick8 == 1:\n",
    "        winner8 = schools[3]\n",
    "    else:\n",
    "        winner8 = winner4\n",
    "        \n",
    "    pick9 = np.random.randint(1,3)\n",
    "    if pick9 == 1:\n",
    "        winner9 = schools[1]\n",
    "    else:\n",
    "        winner9 = winner5\n",
    "        \n",
    "    pick10 = np.random.randint(1,3)\n",
    "    if pick10 == 1:\n",
    "        winner10 = schools[2]\n",
    "    else:\n",
    "        winner10 = winner6\n",
    "        \n",
    "    # 1 seed opponent\n",
    "    (x, y) = (350,116)\n",
    "    message = winner7\n",
    "    color = 'rgb(0, 0, 0)' # black color\n",
    "    draw.text((x, y), message, fill=color, font=font)\n",
    "\n",
    "    # 4 seed opponent\n",
    "    (x, y) = (350,132)\n",
    "    message = winner8\n",
    "    color = 'rgb(0, 0, 0)' # black color\n",
    "    draw.text((x, y), message, fill=color, font=font)\n",
    "    \n",
    "        # 2 seed opponent\n",
    "    (x, y) = (350,334)\n",
    "    message = winner9\n",
    "    color = 'rgb(0, 0, 0)' # black color\n",
    "    draw.text((x, y), message, fill=color, font=font)\n",
    "\n",
    "    # 3 seed opponent\n",
    "    (x, y) = (350,350)\n",
    "    message = winner10\n",
    "    color = 'rgb(0, 0, 0)' # black color\n",
    "    draw.text((x, y), message, fill=color, font=font)\n",
    "    image.save('third_round_bracket.png')\n",
    "    \n",
    "    pick11 = np.random.randint(1,3)\n",
    "    if pick11 == 1:\n",
    "        winner11 = winner7\n",
    "    else:\n",
    "        winner11 = winner8\n",
    "        \n",
    "    pick12 = np.random.randint(1,3)\n",
    "    if pick12 == 1:\n",
    "        winner12 = winner9\n",
    "    else:\n",
    "        winner12 = winner10\n",
    "    \n",
    "    (x, y) = (460,224)\n",
    "    message = winner11\n",
    "    color = 'rgb(0, 0, 0)' # black color\n",
    "    draw.text((x, y), message, fill=color, font=font)\n",
    "    \n",
    "    (x, y) = (460,240)\n",
    "    message = winner12\n",
    "    color = 'rgb(0, 0, 0)' # black color\n",
    "    draw.text((x, y), message, fill=color, font=font)\n",
    "    image.save('fourth_round_bracket.png')\n",
    "    \n",
    "    pick13 = np.random.randint(1,3)\n",
    "    if pick13 == 1:\n",
    "        champ = winner11\n",
    "    else:\n",
    "        champ = winner12\n",
    "        \n",
    "    (x, y) = (450,390)\n",
    "    message = winner12\n",
    "    color = 'rgb(0, 0, 0)' # black color\n",
    "    font = ImageFont.truetype('arial.ttf', size=20)\n",
    "    draw.text((x, y), message, fill=color, font=font)\n",
    "    image.save('final_bracket.png')\n",
    "    \n",
    "    return image"
   ]
  },
  {
   "cell_type": "code",
   "execution_count": 36,
   "metadata": {},
   "outputs": [
    {
     "ename": "FileNotFoundError",
     "evalue": "[Errno 2] No such file or directory: 'initial_bracket.png'",
     "output_type": "error",
     "traceback": [
      "\u001b[0;31m---------------------------------------------------------------------------\u001b[0m",
      "\u001b[0;31mFileNotFoundError\u001b[0m                         Traceback (most recent call last)",
      "\u001b[0;32m<ipython-input-36-6d8d00df2acc>\u001b[0m in \u001b[0;36m<module>\u001b[0;34m()\u001b[0m\n\u001b[0;32m----> 1\u001b[0;31m \u001b[0mtournament\u001b[0m\u001b[0;34m(\u001b[0m\u001b[0;34m'initial_bracket.png'\u001b[0m\u001b[0;34m,\u001b[0m\u001b[0mschools\u001b[0m\u001b[0;34m)\u001b[0m\u001b[0;34m\u001b[0m\u001b[0m\n\u001b[0m",
      "\u001b[0;32m<ipython-input-31-d9d67f5b269c>\u001b[0m in \u001b[0;36mtournament\u001b[0;34m(image_name, schools)\u001b[0m\n\u001b[1;32m      2\u001b[0m     \u001b[0;32mimport\u001b[0m \u001b[0mnumpy\u001b[0m \u001b[0;32mas\u001b[0m \u001b[0mnp\u001b[0m\u001b[0;34m\u001b[0m\u001b[0m\n\u001b[1;32m      3\u001b[0m     \u001b[0;32mfrom\u001b[0m \u001b[0mPIL\u001b[0m \u001b[0;32mimport\u001b[0m \u001b[0mImage\u001b[0m\u001b[0;34m,\u001b[0m \u001b[0mImageDraw\u001b[0m\u001b[0;34m,\u001b[0m \u001b[0mImageFont\u001b[0m\u001b[0;34m\u001b[0m\u001b[0m\n\u001b[0;32m----> 4\u001b[0;31m     \u001b[0mimage\u001b[0m \u001b[0;34m=\u001b[0m \u001b[0mImage\u001b[0m\u001b[0;34m.\u001b[0m\u001b[0mopen\u001b[0m\u001b[0;34m(\u001b[0m\u001b[0mimage_name\u001b[0m\u001b[0;34m)\u001b[0m\u001b[0;34m\u001b[0m\u001b[0m\n\u001b[0m\u001b[1;32m      5\u001b[0m     \u001b[0mdraw\u001b[0m \u001b[0;34m=\u001b[0m \u001b[0mImageDraw\u001b[0m\u001b[0;34m.\u001b[0m\u001b[0mDraw\u001b[0m\u001b[0;34m(\u001b[0m\u001b[0mimage\u001b[0m\u001b[0;34m)\u001b[0m\u001b[0;34m\u001b[0m\u001b[0m\n\u001b[1;32m      6\u001b[0m     \u001b[0mfont\u001b[0m \u001b[0;34m=\u001b[0m \u001b[0mImageFont\u001b[0m\u001b[0;34m.\u001b[0m\u001b[0mtruetype\u001b[0m\u001b[0;34m(\u001b[0m\u001b[0;34m'arial.ttf'\u001b[0m\u001b[0;34m,\u001b[0m \u001b[0msize\u001b[0m\u001b[0;34m=\u001b[0m\u001b[0;36m12\u001b[0m\u001b[0;34m)\u001b[0m\u001b[0;34m\u001b[0m\u001b[0m\n",
      "\u001b[0;32m/anaconda3/lib/python3.6/site-packages/PIL/Image.py\u001b[0m in \u001b[0;36mopen\u001b[0;34m(fp, mode)\u001b[0m\n\u001b[1;32m   2546\u001b[0m \u001b[0;34m\u001b[0m\u001b[0m\n\u001b[1;32m   2547\u001b[0m     \u001b[0;32mif\u001b[0m \u001b[0mfilename\u001b[0m\u001b[0;34m:\u001b[0m\u001b[0;34m\u001b[0m\u001b[0m\n\u001b[0;32m-> 2548\u001b[0;31m         \u001b[0mfp\u001b[0m \u001b[0;34m=\u001b[0m \u001b[0mbuiltins\u001b[0m\u001b[0;34m.\u001b[0m\u001b[0mopen\u001b[0m\u001b[0;34m(\u001b[0m\u001b[0mfilename\u001b[0m\u001b[0;34m,\u001b[0m \u001b[0;34m\"rb\"\u001b[0m\u001b[0;34m)\u001b[0m\u001b[0;34m\u001b[0m\u001b[0m\n\u001b[0m\u001b[1;32m   2549\u001b[0m         \u001b[0mexclusive_fp\u001b[0m \u001b[0;34m=\u001b[0m \u001b[0;32mTrue\u001b[0m\u001b[0;34m\u001b[0m\u001b[0m\n\u001b[1;32m   2550\u001b[0m \u001b[0;34m\u001b[0m\u001b[0m\n",
      "\u001b[0;31mFileNotFoundError\u001b[0m: [Errno 2] No such file or directory: 'initial_bracket.png'"
     ]
    }
   ],
   "source": [
    "tournament('initial_bracket.png',schools)"
   ]
  },
  {
   "cell_type": "markdown",
   "metadata": {},
   "source": [
    "#### Model using \"Four Factors\" \n",
    "\n",
    "This model uses four factors determined to be revelant to team's success.  These metrics are used to calculate a team \"score\" based on weights.  A winner is determined if the team's score is above a random number used to account for upsets."
   ]
  },
  {
   "cell_type": "code",
   "execution_count": null,
   "metadata": {},
   "outputs": [],
   "source": [
    "B1G_18_19 = data[data['Year'] == '2018-2019']\n",
    "B1G_18_19"
   ]
  },
  {
   "cell_type": "code",
   "execution_count": null,
   "metadata": {},
   "outputs": [],
   "source": [
    "def score_calc(data):\n",
    "    '''\n",
    "    Calculates a team's effectiveness in a given year\n",
    "    '''\n",
    "    score_dict = dict() #intialize dictionary\n",
    "    names = B1G_18_19[\"School\"]\n",
    "    \n",
    "    #cycle through each B1G team\n",
    "    for i in range(14):\n",
    "        team = data.loc[i + 56, :] #isolate team's data\n",
    "        \n",
    "        #calculate possesions\n",
    "        poss = .96*(team[\"FGA-T\"] - team[\"ORB-T\"] - team[\"TOV-T\"] + (.475 * team[\"FTA-T\"]))\n",
    "        \n",
    "        #calculate factors and team score\n",
    "        EGF = (team[\"FGA-T\"] + 3*(team[\"3PA-T\"])) / team[\"FGA-T\"]\n",
    "        TO = team[\"TOV-T\"] / poss\n",
    "        ORP = team[\"ORB-T\"] / (team[\"ORB-T\"] + team[\"DRB-O\"])\n",
    "        FTR = team[\"FT%-T\"]\n",
    "        \n",
    "        team_score = .4*(EGF) + .25*(TO) + .2*(ORP) + .15*(FTR)\n",
    "        \n",
    "        name = names.loc[i+56]\n",
    "        \n",
    "        #store information in dictionary\n",
    "        score_dict[name] = team_score\n",
    "\n",
    "    return score_dict"
   ]
  },
  {
   "cell_type": "code",
   "execution_count": null,
   "metadata": {},
   "outputs": [],
   "source": [
    "score_dict = score_calc(B1G_18_19)\n",
    "score_dict"
   ]
  },
  {
   "cell_type": "code",
   "execution_count": null,
   "metadata": {},
   "outputs": [],
   "source": [
    "def predictor(team1, team2, score_dict):\n",
    "    '''\n",
    "    Returns the winner of two teams\n",
    "    '''\n",
    "    n = np.random.normal(scale = 1.5)\n",
    "    if score_dict[team1] > score_dict[team2]:\n",
    "        if n > score_dict[team1]:\n",
    "            winner = team2\n",
    "        else:\n",
    "            winner = team1\n",
    "    else:\n",
    "        if n > score_dict[team2]:\n",
    "            winner = team1\n",
    "        else:\n",
    "            winner = team2\n",
    "            \n",
    "    return winner"
   ]
  },
  {
   "cell_type": "code",
   "execution_count": null,
   "metadata": {},
   "outputs": [],
   "source": [
    "def tournament2(image_name, schools):\n",
    "    import numpy as np\n",
    "    from PIL import Image, ImageDraw, ImageFont\n",
    "    image = Image.open(image_name)\n",
    "    draw = ImageDraw.Draw(image)\n",
    "    font = ImageFont.truetype('arial.ttf', size=12)\n",
    "    \n",
    "    winner1 = predictor(schools[11], schools[12], score_dict)\n",
    "    \n",
    "    winner2 = predictor(schools[10], schools[13], score_dict)\n",
    "    \n",
    "    # 5 seed opponent\n",
    "    (x, y) = (160,410)\n",
    "    message = winner2\n",
    "    color = 'rgb(0, 0, 0)' # black color\n",
    "    draw.text((x, y), message, fill=color, font=font)\n",
    "\n",
    "    # 6 seed opponent\n",
    "    (x, y) = (160,195)\n",
    "    message = winner1\n",
    "    color = 'rgb(0, 0, 0)' # black color\n",
    "    draw.text((x, y), message, fill=color, font=font)\n",
    "    image.save('first_round_bracket.png')\n",
    "    \n",
    "    winner3 = predictor(schools[7], schools[8], score_dict)\n",
    "    \n",
    "    winner4 = predictor(schools[4], winner1, score_dict)\n",
    "    \n",
    "    winner5 = predictor(schools[6], schools[9], score_dict)\n",
    "    \n",
    "    winner6 = predictor(schools[5], winner2, score_dict)\n",
    "    \n",
    "    # 1 seed opponent\n",
    "    (x, y) = (268,91)\n",
    "    message = winner3\n",
    "    color = 'rgb(0, 0, 0)' # black color\n",
    "    draw.text((x, y), message, fill=color, font=font)\n",
    "    \n",
    "    # 4 seed opponent\n",
    "    (x, y) = (268,176)\n",
    "    message = winner4\n",
    "    color = 'rgb(0, 0, 0)' # black color\n",
    "    draw.text((x, y), message, fill=color, font=font)\n",
    "\n",
    "    # 2 seed opponent\n",
    "    (x, y) = (268,308)\n",
    "    message = winner5\n",
    "    color = 'rgb(0, 0, 0)' # black color\n",
    "    draw.text((x, y), message, fill=color, font=font)\n",
    "\n",
    "    # 3 seed opponent\n",
    "    (x, y) = (268,392)\n",
    "    message = winner6\n",
    "    color = 'rgb(0, 0, 0)' # black color\n",
    "    draw.text((x, y), message, fill=color, font=font)\n",
    "    image.save('second_round_bracket.png')\n",
    "    \n",
    "    winner7 = predictor(schools[0], winner3, score_dict)\n",
    "    \n",
    "    winner8 = predictor(schools[3], winner4, score_dict)\n",
    "    \n",
    "    winner9 = predictor(schools[1], winner5, score_dict)\n",
    "    \n",
    "    winner10 = predictor(schools[2], winner6, score_dict)\n",
    "    \n",
    "    # 1 seed opponent\n",
    "    (x, y) = (350,116)\n",
    "    message = winner7\n",
    "    color = 'rgb(0, 0, 0)' # black color\n",
    "    draw.text((x, y), message, fill=color, font=font)\n",
    "\n",
    "    # 4 seed opponent\n",
    "    (x, y) = (350,132)\n",
    "    message = winner8\n",
    "    color = 'rgb(0, 0, 0)' # black color\n",
    "    draw.text((x, y), message, fill=color, font=font)\n",
    "    \n",
    "        # 2 seed opponent\n",
    "    (x, y) = (350,334)\n",
    "    message = winner9\n",
    "    color = 'rgb(0, 0, 0)' # black color\n",
    "    draw.text((x, y), message, fill=color, font=font)\n",
    "\n",
    "    # 3 seed opponent\n",
    "    (x, y) = (350,350)\n",
    "    message = winner10\n",
    "    color = 'rgb(0, 0, 0)' # black color\n",
    "    draw.text((x, y), message, fill=color, font=font)\n",
    "    image.save('third_round_bracket.png')\n",
    "    \n",
    "    winner11 = predictor(winner7, winner8, score_dict)\n",
    "    \n",
    "    winner12 = predictor(winner9, winner10, score_dict)\n",
    "    \n",
    "    (x, y) = (460,224)\n",
    "    message = winner11\n",
    "    color = 'rgb(0, 0, 0)' # black color\n",
    "    draw.text((x, y), message, fill=color, font=font)\n",
    "    \n",
    "    (x, y) = (460,240)\n",
    "    message = winner12\n",
    "    color = 'rgb(0, 0, 0)' # black color\n",
    "    draw.text((x, y), message, fill=color, font=font)\n",
    "    image.save('fourth_round_bracket.png')\n",
    "    \n",
    "    winner13 = predictor(winner11, winner12, score_dict)\n",
    "    \n",
    "    (x, y) = (450,390)\n",
    "    message = winner12\n",
    "    color = 'rgb(0, 0, 0)' # black color\n",
    "    font = ImageFont.truetype('arial.ttf', size=20)\n",
    "    draw.text((x, y), message, fill=color, font=font)\n",
    "    image.save('final_bracket.png')\n",
    "    \n",
    "    return image\n",
    "    "
   ]
  },
  {
   "cell_type": "code",
   "execution_count": null,
   "metadata": {},
   "outputs": [],
   "source": [
    "tournament2('initial_bracket.png',schools)"
   ]
  },
  {
   "cell_type": "markdown",
   "metadata": {},
   "source": [
    "#### Model using Kenpom Model\n",
    "\n",
    "This model bases winning percentages off of a teams adjusted offense and adjusted defense efficiency.  The team with a higher winning percentage wins."
   ]
  },
  {
   "cell_type": "code",
   "execution_count": null,
   "metadata": {},
   "outputs": [],
   "source": [
    "def predictor2(team1, team2, my_dict):\n",
    "    if my_dict[team1] > my_dict[team2]:\n",
    "        winner = team1\n",
    "    else:\n",
    "        winner = team2\n",
    "    return winner"
   ]
  },
  {
   "cell_type": "code",
   "execution_count": null,
   "metadata": {},
   "outputs": [],
   "source": [
    "def tournament3(image_name, schools):\n",
    "    import numpy as np\n",
    "    from PIL import Image, ImageDraw, ImageFont\n",
    "    image = Image.open(image_name)\n",
    "    draw = ImageDraw.Draw(image)\n",
    "    font = ImageFont.truetype('arial.ttf', size=12)\n",
    "    \n",
    "    winner1 = predictor2(schools[11], schools[12], my_dict)\n",
    "    \n",
    "    winner2 = predictor2(schools[10], schools[13], my_dict)\n",
    "    \n",
    "    # 5 seed opponent\n",
    "    (x, y) = (160,410)\n",
    "    message = winner2\n",
    "    color = 'rgb(0, 0, 0)' # black color\n",
    "    draw.text((x, y), message, fill=color, font=font)\n",
    "\n",
    "    # 6 seed opponent\n",
    "    (x, y) = (160,195)\n",
    "    message = winner1\n",
    "    color = 'rgb(0, 0, 0)' # black color\n",
    "    draw.text((x, y), message, fill=color, font=font)\n",
    "    image.save('first_round_bracket.png')\n",
    "    \n",
    "    winner3 = predictor2(schools[7], schools[8], my_dict)\n",
    "    \n",
    "    winner4 = predictor2(schools[4], winner1, my_dict)\n",
    "    \n",
    "    winner5 = predictor2(schools[6], schools[9], my_dict)\n",
    "    \n",
    "    winner6 = predictor2(schools[5], winner2, my_dict)\n",
    "    \n",
    "    # 1 seed opponent\n",
    "    (x, y) = (268,91)\n",
    "    message = winner3\n",
    "    color = 'rgb(0, 0, 0)' # black color\n",
    "    draw.text((x, y), message, fill=color, font=font)\n",
    "    \n",
    "    # 4 seed opponent\n",
    "    (x, y) = (268,176)\n",
    "    message = winner4\n",
    "    color = 'rgb(0, 0, 0)' # black color\n",
    "    draw.text((x, y), message, fill=color, font=font)\n",
    "\n",
    "    # 2 seed opponent\n",
    "    (x, y) = (268,308)\n",
    "    message = winner5\n",
    "    color = 'rgb(0, 0, 0)' # black color\n",
    "    draw.text((x, y), message, fill=color, font=font)\n",
    "\n",
    "    # 3 seed opponent\n",
    "    (x, y) = (268,392)\n",
    "    message = winner6\n",
    "    color = 'rgb(0, 0, 0)' # black color\n",
    "    draw.text((x, y), message, fill=color, font=font)\n",
    "    image.save('second_round_bracket.png')\n",
    "    \n",
    "    winner7 = predictor2(schools[0], winner3, my_dict)\n",
    "    \n",
    "    winner8 = predictor2(schools[3], winner4, my_dict)\n",
    "    \n",
    "    winner9 = predictor2(schools[1], winner5, my_dict)\n",
    "    \n",
    "    winner10 = predictor2(schools[2], winner6, my_dict)\n",
    "    \n",
    "    # 1 seed opponent\n",
    "    (x, y) = (350,116)\n",
    "    message = winner7\n",
    "    color = 'rgb(0, 0, 0)' # black color\n",
    "    draw.text((x, y), message, fill=color, font=font)\n",
    "\n",
    "    # 4 seed opponent\n",
    "    (x, y) = (350,132)\n",
    "    message = winner8\n",
    "    color = 'rgb(0, 0, 0)' # black color\n",
    "    draw.text((x, y), message, fill=color, font=font)\n",
    "    \n",
    "        # 2 seed opponent\n",
    "    (x, y) = (350,334)\n",
    "    message = winner9\n",
    "    color = 'rgb(0, 0, 0)' # black color\n",
    "    draw.text((x, y), message, fill=color, font=font)\n",
    "\n",
    "    # 3 seed opponent\n",
    "    (x, y) = (350,350)\n",
    "    message = winner10\n",
    "    color = 'rgb(0, 0, 0)' # black color\n",
    "    draw.text((x, y), message, fill=color, font=font)\n",
    "    image.save('third_round_bracket.png')\n",
    "    \n",
    "    winner11 = predictor2(winner7, winner8, my_dict)\n",
    "    \n",
    "    winner12 = predictor2(winner9, winner10, my_dict)\n",
    "    \n",
    "    (x, y) = (460,224)\n",
    "    message = winner11\n",
    "    color = 'rgb(0, 0, 0)' # black color\n",
    "    draw.text((x, y), message, fill=color, font=font)\n",
    "    \n",
    "    (x, y) = (460,240)\n",
    "    message = winner12\n",
    "    color = 'rgb(0, 0, 0)' # black color\n",
    "    draw.text((x, y), message, fill=color, font=font)\n",
    "    image.save('fourth_round_bracket.png')\n",
    "    \n",
    "    winner13 = predictor2(winner11, winner12, my_dict)\n",
    "    \n",
    "    (x, y) = (450,390)\n",
    "    message = winner12\n",
    "    color = 'rgb(0, 0, 0)' # black color\n",
    "    font = ImageFont.truetype('arial.ttf', size=20)\n",
    "    draw.text((x, y), message, fill=color, font=font)\n",
    "    image.save('final_bracket.png')\n",
    "    \n",
    "    return image"
   ]
  },
  {
   "cell_type": "code",
   "execution_count": null,
   "metadata": {},
   "outputs": [],
   "source": [
    "tournament3('initial_bracket.png',schools)"
   ]
  }
 ],
 "metadata": {
  "kernelspec": {
   "display_name": "Python 3",
   "language": "python",
   "name": "python3"
  },
  "language_info": {
   "codemirror_mode": {
    "name": "ipython",
    "version": 3
   },
   "file_extension": ".py",
   "mimetype": "text/x-python",
   "name": "python",
   "nbconvert_exporter": "python",
   "pygments_lexer": "ipython3",
   "version": "3.6.5"
  }
 },
 "nbformat": 4,
 "nbformat_minor": 2
}
